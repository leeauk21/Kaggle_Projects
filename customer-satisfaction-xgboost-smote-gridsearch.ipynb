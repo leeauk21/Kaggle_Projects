{
 "cells": [
  {
   "cell_type": "code",
   "execution_count": 1,
   "metadata": {
    "_cell_guid": "b1076dfc-b9ad-4769-8c92-a6c4dae69d19",
    "_uuid": "8f2839f25d086af736a60e9eeb907d3b93b6e0e5",
    "execution": {
     "iopub.execute_input": "2020-10-15T15:49:06.844748Z",
     "iopub.status.busy": "2020-10-15T15:49:06.843562Z",
     "iopub.status.idle": "2020-10-15T15:49:06.849900Z",
     "shell.execute_reply": "2020-10-15T15:49:06.848908Z"
    },
    "papermill": {
     "duration": 0.068606,
     "end_time": "2020-10-15T15:49:06.850059",
     "exception": false,
     "start_time": "2020-10-15T15:49:06.781453",
     "status": "completed"
    },
    "tags": []
   },
   "outputs": [
    {
     "name": "stdout",
     "output_type": "stream",
     "text": [
      "/kaggle/input/santander-customer-satisfaction/sample_submission.csv\n",
      "/kaggle/input/santander-customer-satisfaction/test.csv\n",
      "/kaggle/input/santander-customer-satisfaction/train.csv\n"
     ]
    }
   ],
   "source": [
    "# This Python 3 environment comes with many helpful analytics libraries installed\n",
    "# It is defined by the kaggle/python Docker image: https://github.com/kaggle/docker-python\n",
    "# For example, here's several helpful packages to load\n",
    "\n",
    "import numpy as np # linear algebra\n",
    "import pandas as pd # data processing, CSV file I/O (e.g. pd.read_csv)\n",
    "\n",
    "# Input data files are available in the read-only \"../input/\" directory\n",
    "# For example, running this (by clicking run or pressing Shift+Enter) will list all files under the input directory\n",
    "\n",
    "import os\n",
    "for dirname, _, filenames in os.walk('/kaggle/input'):\n",
    "    for filename in filenames:\n",
    "        print(os.path.join(dirname, filename))\n",
    "\n",
    "# You can write up to 5GB to the current directory (/kaggle/working/) that gets preserved as output when you create a version using \"Save & Run All\" \n",
    "# You can also write temporary files to /kaggle/temp/, but they won't be saved outside of the current session"
   ]
  },
  {
   "cell_type": "code",
   "execution_count": 2,
   "metadata": {
    "execution": {
     "iopub.execute_input": "2020-10-15T15:49:06.974908Z",
     "iopub.status.busy": "2020-10-15T15:49:06.974051Z",
     "iopub.status.idle": "2020-10-15T15:49:09.971007Z",
     "shell.execute_reply": "2020-10-15T15:49:09.970208Z"
    },
    "papermill": {
     "duration": 3.060861,
     "end_time": "2020-10-15T15:49:09.971131",
     "exception": false,
     "start_time": "2020-10-15T15:49:06.910270",
     "status": "completed"
    },
    "tags": []
   },
   "outputs": [],
   "source": [
    "from sklearn import feature_selection\n",
    "import seaborn as sns\n",
    "from sklearn.model_selection import train_test_split\n",
    "from sklearn.preprocessing import StandardScaler\n",
    "from imblearn.over_sampling import SMOTE\n",
    "from sklearn.linear_model import LogisticRegression\n",
    "from sklearn.metrics import roc_auc_score\n",
    "from sklearn.feature_selection import RFE\n",
    "from xgboost import XGBClassifier\n",
    "from sklearn.feature_selection import VarianceThreshold\n",
    "import collections\n",
    "import matplotlib.pyplot as plt\n",
    "from sklearn.decomposition import PCA\n",
    "from hyperopt import STATUS_OK, Trials, fmin, hp, tpe\n",
    "from sklearn.model_selection import ParameterGrid\n",
    "from imblearn.over_sampling import ADASYN"
   ]
  },
  {
   "cell_type": "code",
   "execution_count": 3,
   "metadata": {
    "_cell_guid": "79c7e3d0-c299-4dcb-8224-4455121ee9b0",
    "_uuid": "d629ff2d2480ee46fbb7e2d37f6b5fab8052498a",
    "execution": {
     "iopub.execute_input": "2020-10-15T15:49:10.084622Z",
     "iopub.status.busy": "2020-10-15T15:49:10.083795Z",
     "iopub.status.idle": "2020-10-15T15:49:15.707789Z",
     "shell.execute_reply": "2020-10-15T15:49:15.707034Z"
    },
    "papermill": {
     "duration": 5.684221,
     "end_time": "2020-10-15T15:49:15.707930",
     "exception": false,
     "start_time": "2020-10-15T15:49:10.023709",
     "status": "completed"
    },
    "tags": []
   },
   "outputs": [],
   "source": [
    "train=pd.read_csv(\"../input/santander-customer-satisfaction/train.csv\",index_col=\"ID\")\n",
    "test_X=pd.read_csv(\"../input/santander-customer-satisfaction/test.csv\",index_col=\"ID\")"
   ]
  },
  {
   "cell_type": "markdown",
   "metadata": {
    "papermill": {
     "duration": 0.052747,
     "end_time": "2020-10-15T15:49:15.813546",
     "exception": false,
     "start_time": "2020-10-15T15:49:15.760799",
     "status": "completed"
    },
    "tags": []
   },
   "source": [
    "# DATASET ANALYSIS"
   ]
  },
  {
   "cell_type": "code",
   "execution_count": 4,
   "metadata": {
    "execution": {
     "iopub.execute_input": "2020-10-15T15:49:16.051110Z",
     "iopub.status.busy": "2020-10-15T15:49:16.049828Z",
     "iopub.status.idle": "2020-10-15T15:49:17.383969Z",
     "shell.execute_reply": "2020-10-15T15:49:17.384542Z"
    },
    "papermill": {
     "duration": 1.518309,
     "end_time": "2020-10-15T15:49:17.384688",
     "exception": false,
     "start_time": "2020-10-15T15:49:15.866379",
     "status": "completed"
    },
    "tags": []
   },
   "outputs": [
    {
     "data": {
      "text/html": [
       "<div>\n",
       "<style scoped>\n",
       "    .dataframe tbody tr th:only-of-type {\n",
       "        vertical-align: middle;\n",
       "    }\n",
       "\n",
       "    .dataframe tbody tr th {\n",
       "        vertical-align: top;\n",
       "    }\n",
       "\n",
       "    .dataframe thead th {\n",
       "        text-align: right;\n",
       "    }\n",
       "</style>\n",
       "<table border=\"1\" class=\"dataframe\">\n",
       "  <thead>\n",
       "    <tr style=\"text-align: right;\">\n",
       "      <th></th>\n",
       "      <th>var3</th>\n",
       "      <th>var15</th>\n",
       "      <th>imp_ent_var16_ult1</th>\n",
       "      <th>imp_op_var39_comer_ult1</th>\n",
       "      <th>imp_op_var39_comer_ult3</th>\n",
       "      <th>imp_op_var40_comer_ult1</th>\n",
       "      <th>imp_op_var40_comer_ult3</th>\n",
       "      <th>imp_op_var40_efect_ult1</th>\n",
       "      <th>imp_op_var40_efect_ult3</th>\n",
       "      <th>imp_op_var40_ult1</th>\n",
       "      <th>...</th>\n",
       "      <th>saldo_medio_var33_hace2</th>\n",
       "      <th>saldo_medio_var33_hace3</th>\n",
       "      <th>saldo_medio_var33_ult1</th>\n",
       "      <th>saldo_medio_var33_ult3</th>\n",
       "      <th>saldo_medio_var44_hace2</th>\n",
       "      <th>saldo_medio_var44_hace3</th>\n",
       "      <th>saldo_medio_var44_ult1</th>\n",
       "      <th>saldo_medio_var44_ult3</th>\n",
       "      <th>var38</th>\n",
       "      <th>TARGET</th>\n",
       "    </tr>\n",
       "  </thead>\n",
       "  <tbody>\n",
       "    <tr>\n",
       "      <th>count</th>\n",
       "      <td>76020.000000</td>\n",
       "      <td>76020.000000</td>\n",
       "      <td>76020.000000</td>\n",
       "      <td>76020.000000</td>\n",
       "      <td>76020.000000</td>\n",
       "      <td>76020.000000</td>\n",
       "      <td>76020.000000</td>\n",
       "      <td>76020.000000</td>\n",
       "      <td>76020.000000</td>\n",
       "      <td>76020.000000</td>\n",
       "      <td>...</td>\n",
       "      <td>76020.000000</td>\n",
       "      <td>76020.000000</td>\n",
       "      <td>76020.000000</td>\n",
       "      <td>76020.000000</td>\n",
       "      <td>76020.000000</td>\n",
       "      <td>76020.000000</td>\n",
       "      <td>76020.000000</td>\n",
       "      <td>76020.000000</td>\n",
       "      <td>7.602000e+04</td>\n",
       "      <td>76020.000000</td>\n",
       "    </tr>\n",
       "    <tr>\n",
       "      <th>mean</th>\n",
       "      <td>-1523.199277</td>\n",
       "      <td>33.212865</td>\n",
       "      <td>86.208265</td>\n",
       "      <td>72.363067</td>\n",
       "      <td>119.529632</td>\n",
       "      <td>3.559130</td>\n",
       "      <td>6.472698</td>\n",
       "      <td>0.412946</td>\n",
       "      <td>0.567352</td>\n",
       "      <td>3.160715</td>\n",
       "      <td>...</td>\n",
       "      <td>7.935824</td>\n",
       "      <td>1.365146</td>\n",
       "      <td>12.215580</td>\n",
       "      <td>8.784074</td>\n",
       "      <td>31.505324</td>\n",
       "      <td>1.858575</td>\n",
       "      <td>76.026165</td>\n",
       "      <td>56.614351</td>\n",
       "      <td>1.172358e+05</td>\n",
       "      <td>0.039569</td>\n",
       "    </tr>\n",
       "    <tr>\n",
       "      <th>std</th>\n",
       "      <td>39033.462364</td>\n",
       "      <td>12.956486</td>\n",
       "      <td>1614.757313</td>\n",
       "      <td>339.315831</td>\n",
       "      <td>546.266294</td>\n",
       "      <td>93.155749</td>\n",
       "      <td>153.737066</td>\n",
       "      <td>30.604864</td>\n",
       "      <td>36.513513</td>\n",
       "      <td>95.268204</td>\n",
       "      <td>...</td>\n",
       "      <td>455.887218</td>\n",
       "      <td>113.959637</td>\n",
       "      <td>783.207399</td>\n",
       "      <td>538.439211</td>\n",
       "      <td>2013.125393</td>\n",
       "      <td>147.786584</td>\n",
       "      <td>4040.337842</td>\n",
       "      <td>2852.579397</td>\n",
       "      <td>1.826646e+05</td>\n",
       "      <td>0.194945</td>\n",
       "    </tr>\n",
       "    <tr>\n",
       "      <th>min</th>\n",
       "      <td>-999999.000000</td>\n",
       "      <td>5.000000</td>\n",
       "      <td>0.000000</td>\n",
       "      <td>0.000000</td>\n",
       "      <td>0.000000</td>\n",
       "      <td>0.000000</td>\n",
       "      <td>0.000000</td>\n",
       "      <td>0.000000</td>\n",
       "      <td>0.000000</td>\n",
       "      <td>0.000000</td>\n",
       "      <td>...</td>\n",
       "      <td>0.000000</td>\n",
       "      <td>0.000000</td>\n",
       "      <td>0.000000</td>\n",
       "      <td>0.000000</td>\n",
       "      <td>0.000000</td>\n",
       "      <td>0.000000</td>\n",
       "      <td>0.000000</td>\n",
       "      <td>0.000000</td>\n",
       "      <td>5.163750e+03</td>\n",
       "      <td>0.000000</td>\n",
       "    </tr>\n",
       "    <tr>\n",
       "      <th>25%</th>\n",
       "      <td>2.000000</td>\n",
       "      <td>23.000000</td>\n",
       "      <td>0.000000</td>\n",
       "      <td>0.000000</td>\n",
       "      <td>0.000000</td>\n",
       "      <td>0.000000</td>\n",
       "      <td>0.000000</td>\n",
       "      <td>0.000000</td>\n",
       "      <td>0.000000</td>\n",
       "      <td>0.000000</td>\n",
       "      <td>...</td>\n",
       "      <td>0.000000</td>\n",
       "      <td>0.000000</td>\n",
       "      <td>0.000000</td>\n",
       "      <td>0.000000</td>\n",
       "      <td>0.000000</td>\n",
       "      <td>0.000000</td>\n",
       "      <td>0.000000</td>\n",
       "      <td>0.000000</td>\n",
       "      <td>6.787061e+04</td>\n",
       "      <td>0.000000</td>\n",
       "    </tr>\n",
       "    <tr>\n",
       "      <th>50%</th>\n",
       "      <td>2.000000</td>\n",
       "      <td>28.000000</td>\n",
       "      <td>0.000000</td>\n",
       "      <td>0.000000</td>\n",
       "      <td>0.000000</td>\n",
       "      <td>0.000000</td>\n",
       "      <td>0.000000</td>\n",
       "      <td>0.000000</td>\n",
       "      <td>0.000000</td>\n",
       "      <td>0.000000</td>\n",
       "      <td>...</td>\n",
       "      <td>0.000000</td>\n",
       "      <td>0.000000</td>\n",
       "      <td>0.000000</td>\n",
       "      <td>0.000000</td>\n",
       "      <td>0.000000</td>\n",
       "      <td>0.000000</td>\n",
       "      <td>0.000000</td>\n",
       "      <td>0.000000</td>\n",
       "      <td>1.064092e+05</td>\n",
       "      <td>0.000000</td>\n",
       "    </tr>\n",
       "    <tr>\n",
       "      <th>75%</th>\n",
       "      <td>2.000000</td>\n",
       "      <td>40.000000</td>\n",
       "      <td>0.000000</td>\n",
       "      <td>0.000000</td>\n",
       "      <td>0.000000</td>\n",
       "      <td>0.000000</td>\n",
       "      <td>0.000000</td>\n",
       "      <td>0.000000</td>\n",
       "      <td>0.000000</td>\n",
       "      <td>0.000000</td>\n",
       "      <td>...</td>\n",
       "      <td>0.000000</td>\n",
       "      <td>0.000000</td>\n",
       "      <td>0.000000</td>\n",
       "      <td>0.000000</td>\n",
       "      <td>0.000000</td>\n",
       "      <td>0.000000</td>\n",
       "      <td>0.000000</td>\n",
       "      <td>0.000000</td>\n",
       "      <td>1.187563e+05</td>\n",
       "      <td>0.000000</td>\n",
       "    </tr>\n",
       "    <tr>\n",
       "      <th>max</th>\n",
       "      <td>238.000000</td>\n",
       "      <td>105.000000</td>\n",
       "      <td>210000.000000</td>\n",
       "      <td>12888.030000</td>\n",
       "      <td>21024.810000</td>\n",
       "      <td>8237.820000</td>\n",
       "      <td>11073.570000</td>\n",
       "      <td>6600.000000</td>\n",
       "      <td>6600.000000</td>\n",
       "      <td>8237.820000</td>\n",
       "      <td>...</td>\n",
       "      <td>50003.880000</td>\n",
       "      <td>20385.720000</td>\n",
       "      <td>138831.630000</td>\n",
       "      <td>91778.730000</td>\n",
       "      <td>438329.220000</td>\n",
       "      <td>24650.010000</td>\n",
       "      <td>681462.900000</td>\n",
       "      <td>397884.300000</td>\n",
       "      <td>2.203474e+07</td>\n",
       "      <td>1.000000</td>\n",
       "    </tr>\n",
       "  </tbody>\n",
       "</table>\n",
       "<p>8 rows × 370 columns</p>\n",
       "</div>"
      ],
      "text/plain": [
       "                var3         var15  imp_ent_var16_ult1  \\\n",
       "count   76020.000000  76020.000000        76020.000000   \n",
       "mean    -1523.199277     33.212865           86.208265   \n",
       "std     39033.462364     12.956486         1614.757313   \n",
       "min   -999999.000000      5.000000            0.000000   \n",
       "25%         2.000000     23.000000            0.000000   \n",
       "50%         2.000000     28.000000            0.000000   \n",
       "75%         2.000000     40.000000            0.000000   \n",
       "max       238.000000    105.000000       210000.000000   \n",
       "\n",
       "       imp_op_var39_comer_ult1  imp_op_var39_comer_ult3  \\\n",
       "count             76020.000000             76020.000000   \n",
       "mean                 72.363067               119.529632   \n",
       "std                 339.315831               546.266294   \n",
       "min                   0.000000                 0.000000   \n",
       "25%                   0.000000                 0.000000   \n",
       "50%                   0.000000                 0.000000   \n",
       "75%                   0.000000                 0.000000   \n",
       "max               12888.030000             21024.810000   \n",
       "\n",
       "       imp_op_var40_comer_ult1  imp_op_var40_comer_ult3  \\\n",
       "count             76020.000000             76020.000000   \n",
       "mean                  3.559130                 6.472698   \n",
       "std                  93.155749               153.737066   \n",
       "min                   0.000000                 0.000000   \n",
       "25%                   0.000000                 0.000000   \n",
       "50%                   0.000000                 0.000000   \n",
       "75%                   0.000000                 0.000000   \n",
       "max                8237.820000             11073.570000   \n",
       "\n",
       "       imp_op_var40_efect_ult1  imp_op_var40_efect_ult3  imp_op_var40_ult1  \\\n",
       "count             76020.000000             76020.000000       76020.000000   \n",
       "mean                  0.412946                 0.567352           3.160715   \n",
       "std                  30.604864                36.513513          95.268204   \n",
       "min                   0.000000                 0.000000           0.000000   \n",
       "25%                   0.000000                 0.000000           0.000000   \n",
       "50%                   0.000000                 0.000000           0.000000   \n",
       "75%                   0.000000                 0.000000           0.000000   \n",
       "max                6600.000000              6600.000000        8237.820000   \n",
       "\n",
       "       ...  saldo_medio_var33_hace2  saldo_medio_var33_hace3  \\\n",
       "count  ...             76020.000000             76020.000000   \n",
       "mean   ...                 7.935824                 1.365146   \n",
       "std    ...               455.887218               113.959637   \n",
       "min    ...                 0.000000                 0.000000   \n",
       "25%    ...                 0.000000                 0.000000   \n",
       "50%    ...                 0.000000                 0.000000   \n",
       "75%    ...                 0.000000                 0.000000   \n",
       "max    ...             50003.880000             20385.720000   \n",
       "\n",
       "       saldo_medio_var33_ult1  saldo_medio_var33_ult3  \\\n",
       "count            76020.000000            76020.000000   \n",
       "mean                12.215580                8.784074   \n",
       "std                783.207399              538.439211   \n",
       "min                  0.000000                0.000000   \n",
       "25%                  0.000000                0.000000   \n",
       "50%                  0.000000                0.000000   \n",
       "75%                  0.000000                0.000000   \n",
       "max             138831.630000            91778.730000   \n",
       "\n",
       "       saldo_medio_var44_hace2  saldo_medio_var44_hace3  \\\n",
       "count             76020.000000             76020.000000   \n",
       "mean                 31.505324                 1.858575   \n",
       "std                2013.125393               147.786584   \n",
       "min                   0.000000                 0.000000   \n",
       "25%                   0.000000                 0.000000   \n",
       "50%                   0.000000                 0.000000   \n",
       "75%                   0.000000                 0.000000   \n",
       "max              438329.220000             24650.010000   \n",
       "\n",
       "       saldo_medio_var44_ult1  saldo_medio_var44_ult3         var38  \\\n",
       "count            76020.000000            76020.000000  7.602000e+04   \n",
       "mean                76.026165               56.614351  1.172358e+05   \n",
       "std               4040.337842             2852.579397  1.826646e+05   \n",
       "min                  0.000000                0.000000  5.163750e+03   \n",
       "25%                  0.000000                0.000000  6.787061e+04   \n",
       "50%                  0.000000                0.000000  1.064092e+05   \n",
       "75%                  0.000000                0.000000  1.187563e+05   \n",
       "max             681462.900000           397884.300000  2.203474e+07   \n",
       "\n",
       "             TARGET  \n",
       "count  76020.000000  \n",
       "mean       0.039569  \n",
       "std        0.194945  \n",
       "min        0.000000  \n",
       "25%        0.000000  \n",
       "50%        0.000000  \n",
       "75%        0.000000  \n",
       "max        1.000000  \n",
       "\n",
       "[8 rows x 370 columns]"
      ]
     },
     "execution_count": 4,
     "metadata": {},
     "output_type": "execute_result"
    }
   ],
   "source": [
    "train.describe()"
   ]
  },
  {
   "cell_type": "code",
   "execution_count": 5,
   "metadata": {
    "execution": {
     "iopub.execute_input": "2020-10-15T15:49:17.521752Z",
     "iopub.status.busy": "2020-10-15T15:49:17.518142Z",
     "iopub.status.idle": "2020-10-15T15:49:17.526099Z",
     "shell.execute_reply": "2020-10-15T15:49:17.525348Z"
    },
    "papermill": {
     "duration": 0.087595,
     "end_time": "2020-10-15T15:49:17.526219",
     "exception": false,
     "start_time": "2020-10-15T15:49:17.438624",
     "status": "completed"
    },
    "tags": []
   },
   "outputs": [
    {
     "name": "stdout",
     "output_type": "stream",
     "text": [
      "<class 'pandas.core.frame.DataFrame'>\n",
      "Int64Index: 76020 entries, 1 to 151838\n",
      "Columns: 370 entries, var3 to TARGET\n",
      "dtypes: float64(111), int64(259)\n",
      "memory usage: 215.2 MB\n"
     ]
    }
   ],
   "source": [
    "train.info()"
   ]
  },
  {
   "cell_type": "code",
   "execution_count": 6,
   "metadata": {
    "execution": {
     "iopub.execute_input": "2020-10-15T15:49:17.653124Z",
     "iopub.status.busy": "2020-10-15T15:49:17.648247Z",
     "iopub.status.idle": "2020-10-15T15:49:17.666300Z",
     "shell.execute_reply": "2020-10-15T15:49:17.665550Z"
    },
    "papermill": {
     "duration": 0.085634,
     "end_time": "2020-10-15T15:49:17.666431",
     "exception": false,
     "start_time": "2020-10-15T15:49:17.580797",
     "status": "completed"
    },
    "tags": []
   },
   "outputs": [
    {
     "name": "stdout",
     "output_type": "stream",
     "text": [
      "<class 'pandas.core.frame.DataFrame'>\n",
      "Int64Index: 75818 entries, 2 to 151837\n",
      "Columns: 369 entries, var3 to var38\n",
      "dtypes: float64(110), int64(259)\n",
      "memory usage: 214.0 MB\n"
     ]
    }
   ],
   "source": [
    "test_X.info()"
   ]
  },
  {
   "cell_type": "markdown",
   "metadata": {
    "papermill": {
     "duration": 0.054673,
     "end_time": "2020-10-15T15:49:17.777483",
     "exception": false,
     "start_time": "2020-10-15T15:49:17.722810",
     "status": "completed"
    },
    "tags": []
   },
   "source": [
    "All features are numeric"
   ]
  },
  {
   "cell_type": "code",
   "execution_count": 7,
   "metadata": {
    "execution": {
     "iopub.execute_input": "2020-10-15T15:49:17.894606Z",
     "iopub.status.busy": "2020-10-15T15:49:17.893274Z",
     "iopub.status.idle": "2020-10-15T15:49:17.960895Z",
     "shell.execute_reply": "2020-10-15T15:49:17.960311Z"
    },
    "papermill": {
     "duration": 0.128462,
     "end_time": "2020-10-15T15:49:17.961021",
     "exception": false,
     "start_time": "2020-10-15T15:49:17.832559",
     "status": "completed"
    },
    "tags": []
   },
   "outputs": [
    {
     "data": {
      "text/plain": [
       "0"
      ]
     },
     "execution_count": 7,
     "metadata": {},
     "output_type": "execute_result"
    }
   ],
   "source": [
    "train.isnull().sum().sum()"
   ]
  },
  {
   "cell_type": "code",
   "execution_count": 8,
   "metadata": {
    "execution": {
     "iopub.execute_input": "2020-10-15T15:49:18.079009Z",
     "iopub.status.busy": "2020-10-15T15:49:18.078181Z",
     "iopub.status.idle": "2020-10-15T15:49:18.147567Z",
     "shell.execute_reply": "2020-10-15T15:49:18.148591Z"
    },
    "papermill": {
     "duration": 0.132016,
     "end_time": "2020-10-15T15:49:18.148803",
     "exception": false,
     "start_time": "2020-10-15T15:49:18.016787",
     "status": "completed"
    },
    "tags": []
   },
   "outputs": [
    {
     "data": {
      "text/plain": [
       "0"
      ]
     },
     "execution_count": 8,
     "metadata": {},
     "output_type": "execute_result"
    }
   ],
   "source": [
    "test_X.isnull().sum().sum()"
   ]
  },
  {
   "cell_type": "markdown",
   "metadata": {
    "papermill": {
     "duration": 0.057403,
     "end_time": "2020-10-15T15:49:18.264968",
     "exception": false,
     "start_time": "2020-10-15T15:49:18.207565",
     "status": "completed"
    },
    "tags": []
   },
   "source": [
    "There is no missing data in both test, train set"
   ]
  },
  {
   "cell_type": "code",
   "execution_count": 9,
   "metadata": {
    "execution": {
     "iopub.execute_input": "2020-10-15T15:49:18.383826Z",
     "iopub.status.busy": "2020-10-15T15:49:18.383075Z",
     "iopub.status.idle": "2020-10-15T15:49:18.586502Z",
     "shell.execute_reply": "2020-10-15T15:49:18.585772Z"
    },
    "papermill": {
     "duration": 0.265145,
     "end_time": "2020-10-15T15:49:18.586617",
     "exception": false,
     "start_time": "2020-10-15T15:49:18.321472",
     "status": "completed"
    },
    "tags": []
   },
   "outputs": [
    {
     "data": {
      "text/plain": [
       "<matplotlib.axes._subplots.AxesSubplot at 0x7f85e4b95910>"
      ]
     },
     "execution_count": 9,
     "metadata": {},
     "output_type": "execute_result"
    },
    {
     "data": {
      "image/png": "[encoded data removed]",
      "text/plain": [
       "<Figure size 432x288 with 1 Axes>"
      ]
     },
     "metadata": {},
     "output_type": "display_data"
    }
   ],
   "source": [
    "sns.set_style(\"whitegrid\")\n",
    "sns.countplot(x=\"TARGET\",data=train)"
   ]
  },
  {
   "cell_type": "code",
   "execution_count": 10,
   "metadata": {
    "execution": {
     "iopub.execute_input": "2020-10-15T15:49:18.708777Z",
     "iopub.status.busy": "2020-10-15T15:49:18.707615Z",
     "iopub.status.idle": "2020-10-15T15:49:18.720437Z",
     "shell.execute_reply": "2020-10-15T15:49:18.719836Z"
    },
    "papermill": {
     "duration": 0.076313,
     "end_time": "2020-10-15T15:49:18.720564",
     "exception": false,
     "start_time": "2020-10-15T15:49:18.644251",
     "status": "completed"
    },
    "tags": []
   },
   "outputs": [
    {
     "data": {
      "text/html": [
       "<div>\n",
       "<style scoped>\n",
       "    .dataframe tbody tr th:only-of-type {\n",
       "        vertical-align: middle;\n",
       "    }\n",
       "\n",
       "    .dataframe tbody tr th {\n",
       "        vertical-align: top;\n",
       "    }\n",
       "\n",
       "    .dataframe thead th {\n",
       "        text-align: right;\n",
       "    }\n",
       "</style>\n",
       "<table border=\"1\" class=\"dataframe\">\n",
       "  <thead>\n",
       "    <tr style=\"text-align: right;\">\n",
       "      <th></th>\n",
       "      <th>TARGET</th>\n",
       "      <th>percentage</th>\n",
       "    </tr>\n",
       "  </thead>\n",
       "  <tbody>\n",
       "    <tr>\n",
       "      <th>0</th>\n",
       "      <td>73012</td>\n",
       "      <td>96.043147</td>\n",
       "    </tr>\n",
       "    <tr>\n",
       "      <th>1</th>\n",
       "      <td>3008</td>\n",
       "      <td>3.956853</td>\n",
       "    </tr>\n",
       "  </tbody>\n",
       "</table>\n",
       "</div>"
      ],
      "text/plain": [
       "   TARGET  percentage\n",
       "0   73012   96.043147\n",
       "1    3008    3.956853"
      ]
     },
     "execution_count": 10,
     "metadata": {},
     "output_type": "execute_result"
    }
   ],
   "source": [
    "df=pd.DataFrame(train.TARGET.value_counts())\n",
    "df['percentage']=100*df['TARGET']/train.shape[0]\n",
    "df"
   ]
  },
  {
   "cell_type": "markdown",
   "metadata": {
    "papermill": {
     "duration": 0.058831,
     "end_time": "2020-10-15T15:49:18.837603",
     "exception": false,
     "start_time": "2020-10-15T15:49:18.778772",
     "status": "completed"
    },
    "tags": []
   },
   "source": [
    "Huge Class Imbalance as shown above"
   ]
  },
  {
   "cell_type": "markdown",
   "metadata": {
    "papermill": {
     "duration": 0.060608,
     "end_time": "2020-10-15T15:49:18.957257",
     "exception": false,
     "start_time": "2020-10-15T15:49:18.896649",
     "status": "completed"
    },
    "tags": []
   },
   "source": [
    "For detailed EDA please see https://www.kaggle.com/cast42/exploring-features#Clusters"
   ]
  },
  {
   "cell_type": "markdown",
   "metadata": {
    "papermill": {
     "duration": 0.060272,
     "end_time": "2020-10-15T15:49:19.075735",
     "exception": false,
     "start_time": "2020-10-15T15:49:19.015463",
     "status": "completed"
    },
    "tags": []
   },
   "source": [
    "# DATA CLEANING"
   ]
  },
  {
   "cell_type": "code",
   "execution_count": 11,
   "metadata": {
    "execution": {
     "iopub.execute_input": "2020-10-15T15:49:19.199355Z",
     "iopub.status.busy": "2020-10-15T15:49:19.198578Z",
     "iopub.status.idle": "2020-10-15T15:49:19.205466Z",
     "shell.execute_reply": "2020-10-15T15:49:19.204838Z"
    },
    "papermill": {
     "duration": 0.071193,
     "end_time": "2020-10-15T15:49:19.205598",
     "exception": false,
     "start_time": "2020-10-15T15:49:19.134405",
     "status": "completed"
    },
    "tags": []
   },
   "outputs": [],
   "source": [
    "# -999999 in var 3 means unkown so we are replacing it with the most common value in var3\n",
    "train.var3 = train.var3.replace(-999999,2)\n",
    "test_X.var3 = test_X.var3.replace(-999999,2)"
   ]
  },
  {
   "cell_type": "code",
   "execution_count": 12,
   "metadata": {
    "execution": {
     "iopub.execute_input": "2020-10-15T15:49:19.334194Z",
     "iopub.status.busy": "2020-10-15T15:49:19.333316Z",
     "iopub.status.idle": "2020-10-15T15:49:19.338147Z",
     "shell.execute_reply": "2020-10-15T15:49:19.337563Z"
    },
    "papermill": {
     "duration": 0.072548,
     "end_time": "2020-10-15T15:49:19.338279",
     "exception": false,
     "start_time": "2020-10-15T15:49:19.265731",
     "status": "completed"
    },
    "tags": []
   },
   "outputs": [
    {
     "data": {
      "text/plain": [
       "(0, 370)"
      ]
     },
     "execution_count": 12,
     "metadata": {},
     "output_type": "execute_result"
    }
   ],
   "source": [
    "train.loc[train.var3==-999999].shape"
   ]
  },
  {
   "cell_type": "code",
   "execution_count": 13,
   "metadata": {
    "execution": {
     "iopub.execute_input": "2020-10-15T15:49:19.464813Z",
     "iopub.status.busy": "2020-10-15T15:49:19.463721Z",
     "iopub.status.idle": "2020-10-15T15:49:19.468442Z",
     "shell.execute_reply": "2020-10-15T15:49:19.467691Z"
    },
    "papermill": {
     "duration": 0.07101,
     "end_time": "2020-10-15T15:49:19.468562",
     "exception": false,
     "start_time": "2020-10-15T15:49:19.397552",
     "status": "completed"
    },
    "tags": []
   },
   "outputs": [
    {
     "data": {
      "text/plain": [
       "(0, 369)"
      ]
     },
     "execution_count": 13,
     "metadata": {},
     "output_type": "execute_result"
    }
   ],
   "source": [
    "test_X.loc[test_X.var3==-999999].shape"
   ]
  },
  {
   "cell_type": "markdown",
   "metadata": {
    "papermill": {
     "duration": 0.059418,
     "end_time": "2020-10-15T15:49:19.587980",
     "exception": false,
     "start_time": "2020-10-15T15:49:19.528562",
     "status": "completed"
    },
    "tags": []
   },
   "source": [
    "Validation & Train set Split"
   ]
  },
  {
   "cell_type": "code",
   "execution_count": 14,
   "metadata": {
    "execution": {
     "iopub.execute_input": "2020-10-15T15:49:19.798440Z",
     "iopub.status.busy": "2020-10-15T15:49:19.761425Z",
     "iopub.status.idle": "2020-10-15T15:49:20.031368Z",
     "shell.execute_reply": "2020-10-15T15:49:20.032033Z"
    },
    "papermill": {
     "duration": 0.384422,
     "end_time": "2020-10-15T15:49:20.032196",
     "exception": false,
     "start_time": "2020-10-15T15:49:19.647774",
     "status": "completed"
    },
    "tags": []
   },
   "outputs": [],
   "source": [
    "train_X, val_X, train_y, val_y = train_test_split(train.drop(labels=['TARGET'], axis=1),train['TARGET'],test_size=0.2,random_state=1)"
   ]
  },
  {
   "cell_type": "markdown",
   "metadata": {
    "papermill": {
     "duration": 0.061652,
     "end_time": "2020-10-15T15:49:20.155076",
     "exception": false,
     "start_time": "2020-10-15T15:49:20.093424",
     "status": "completed"
    },
    "tags": []
   },
   "source": [
    "*Feature Variance Analysis*"
   ]
  },
  {
   "cell_type": "code",
   "execution_count": 15,
   "metadata": {
    "execution": {
     "iopub.execute_input": "2020-10-15T15:49:20.282550Z",
     "iopub.status.busy": "2020-10-15T15:49:20.281487Z",
     "iopub.status.idle": "2020-10-15T15:49:20.285134Z",
     "shell.execute_reply": "2020-10-15T15:49:20.284449Z"
    },
    "papermill": {
     "duration": 0.06966,
     "end_time": "2020-10-15T15:49:20.285256",
     "exception": false,
     "start_time": "2020-10-15T15:49:20.215596",
     "status": "completed"
    },
    "tags": []
   },
   "outputs": [],
   "source": [
    "#Use Variance Thereshold to remove both constant,quasi-constant features\n",
    "selector = VarianceThreshold(threshold=0.01)"
   ]
  },
  {
   "cell_type": "code",
   "execution_count": 16,
   "metadata": {
    "execution": {
     "iopub.execute_input": "2020-10-15T15:49:20.418811Z",
     "iopub.status.busy": "2020-10-15T15:49:20.417445Z",
     "iopub.status.idle": "2020-10-15T15:49:20.738443Z",
     "shell.execute_reply": "2020-10-15T15:49:20.737661Z"
    },
    "papermill": {
     "duration": 0.392929,
     "end_time": "2020-10-15T15:49:20.738568",
     "exception": false,
     "start_time": "2020-10-15T15:49:20.345639",
     "status": "completed"
    },
    "tags": []
   },
   "outputs": [
    {
     "data": {
      "text/plain": [
       "VarianceThreshold(threshold=0.01)"
      ]
     },
     "execution_count": 16,
     "metadata": {},
     "output_type": "execute_result"
    }
   ],
   "source": [
    "selector.fit(train_X)"
   ]
  },
  {
   "cell_type": "code",
   "execution_count": 17,
   "metadata": {
    "execution": {
     "iopub.execute_input": "2020-10-15T15:49:20.866393Z",
     "iopub.status.busy": "2020-10-15T15:49:20.865452Z",
     "iopub.status.idle": "2020-10-15T15:49:20.869314Z",
     "shell.execute_reply": "2020-10-15T15:49:20.868569Z"
    },
    "papermill": {
     "duration": 0.069874,
     "end_time": "2020-10-15T15:49:20.869436",
     "exception": false,
     "start_time": "2020-10-15T15:49:20.799562",
     "status": "completed"
    },
    "tags": []
   },
   "outputs": [],
   "source": [
    "constArr=selector.get_support()"
   ]
  },
  {
   "cell_type": "code",
   "execution_count": 18,
   "metadata": {
    "execution": {
     "iopub.execute_input": "2020-10-15T15:49:21.018802Z",
     "iopub.status.busy": "2020-10-15T15:49:21.017743Z",
     "iopub.status.idle": "2020-10-15T15:49:21.020951Z",
     "shell.execute_reply": "2020-10-15T15:49:21.021494Z"
    },
    "papermill": {
     "duration": 0.090899,
     "end_time": "2020-10-15T15:49:21.021653",
     "exception": false,
     "start_time": "2020-10-15T15:49:20.930754",
     "status": "completed"
    },
    "tags": []
   },
   "outputs": [],
   "source": [
    "constCol=[col for col in train_X.columns if col not in train_X.columns[constArr]]"
   ]
  },
  {
   "cell_type": "code",
   "execution_count": 19,
   "metadata": {
    "execution": {
     "iopub.execute_input": "2020-10-15T15:49:21.157955Z",
     "iopub.status.busy": "2020-10-15T15:49:21.156837Z",
     "iopub.status.idle": "2020-10-15T15:49:21.166134Z",
     "shell.execute_reply": "2020-10-15T15:49:21.166697Z"
    },
    "papermill": {
     "duration": 0.083551,
     "end_time": "2020-10-15T15:49:21.166904",
     "exception": false,
     "start_time": "2020-10-15T15:49:21.083353",
     "status": "completed"
    },
    "tags": []
   },
   "outputs": [
    {
     "data": {
      "text/plain": [
       "['ind_var1',\n",
       " 'ind_var2_0',\n",
       " 'ind_var2',\n",
       " 'ind_var6_0',\n",
       " 'ind_var6',\n",
       " 'ind_var13_medio_0',\n",
       " 'ind_var13_medio',\n",
       " 'ind_var14',\n",
       " 'ind_var17_0',\n",
       " 'ind_var17',\n",
       " 'ind_var18_0',\n",
       " 'ind_var18',\n",
       " 'ind_var19',\n",
       " 'ind_var20_0',\n",
       " 'ind_var20',\n",
       " 'ind_var27_0',\n",
       " 'ind_var28_0',\n",
       " 'ind_var28',\n",
       " 'ind_var27',\n",
       " 'ind_var29_0',\n",
       " 'ind_var29',\n",
       " 'ind_var30_0',\n",
       " 'ind_var31_0',\n",
       " 'ind_var31',\n",
       " 'ind_var32_cte',\n",
       " 'ind_var32_0',\n",
       " 'ind_var32',\n",
       " 'ind_var33_0',\n",
       " 'ind_var33',\n",
       " 'ind_var34_0',\n",
       " 'ind_var34',\n",
       " 'ind_var40',\n",
       " 'ind_var41',\n",
       " 'ind_var39',\n",
       " 'ind_var44_0',\n",
       " 'ind_var44',\n",
       " 'ind_var46_0',\n",
       " 'ind_var46',\n",
       " 'num_var6_0',\n",
       " 'num_var6',\n",
       " 'num_var13_medio_0',\n",
       " 'num_var13_medio',\n",
       " 'num_var18_0',\n",
       " 'num_var18',\n",
       " 'num_var27_0',\n",
       " 'num_var28_0',\n",
       " 'num_var28',\n",
       " 'num_var27',\n",
       " 'num_var29_0',\n",
       " 'num_var29',\n",
       " 'num_var33',\n",
       " 'num_var34_0',\n",
       " 'num_var34',\n",
       " 'num_var41',\n",
       " 'num_var46_0',\n",
       " 'num_var46',\n",
       " 'saldo_var28',\n",
       " 'saldo_var27',\n",
       " 'saldo_var41',\n",
       " 'saldo_var46',\n",
       " 'imp_amort_var18_hace3',\n",
       " 'imp_amort_var34_hace3',\n",
       " 'imp_reemb_var13_hace3',\n",
       " 'imp_reemb_var33_hace3',\n",
       " 'imp_trasp_var17_out_hace3',\n",
       " 'imp_trasp_var33_out_hace3',\n",
       " 'ind_var7_emit_ult1',\n",
       " 'ind_var7_recib_ult1',\n",
       " 'num_var2_0_ult1',\n",
       " 'num_var2_ult1',\n",
       " 'num_aport_var17_hace3',\n",
       " 'num_aport_var33_hace3',\n",
       " 'num_aport_var33_ult1',\n",
       " 'num_var7_emit_ult1',\n",
       " 'num_compra_var44_hace3',\n",
       " 'num_meses_var13_medio_ult3',\n",
       " 'num_meses_var17_ult3',\n",
       " 'num_meses_var29_ult3',\n",
       " 'num_meses_var33_ult3',\n",
       " 'num_meses_var44_ult3',\n",
       " 'num_reemb_var13_hace3',\n",
       " 'num_reemb_var13_ult1',\n",
       " 'num_reemb_var17_hace3',\n",
       " 'num_reemb_var33_hace3',\n",
       " 'num_reemb_var33_ult1',\n",
       " 'num_trasp_var17_in_hace3',\n",
       " 'num_trasp_var17_in_ult1',\n",
       " 'num_trasp_var17_out_hace3',\n",
       " 'num_trasp_var17_out_ult1',\n",
       " 'num_trasp_var33_in_hace3',\n",
       " 'num_trasp_var33_in_ult1',\n",
       " 'num_trasp_var33_out_hace3',\n",
       " 'num_trasp_var33_out_ult1',\n",
       " 'num_venta_var44_hace3',\n",
       " 'saldo_var2_ult1',\n",
       " 'saldo_medio_var13_medio_hace3']"
      ]
     },
     "execution_count": 19,
     "metadata": {},
     "output_type": "execute_result"
    }
   ],
   "source": [
    "# constant features\n",
    "constCol"
   ]
  },
  {
   "cell_type": "code",
   "execution_count": 20,
   "metadata": {
    "execution": {
     "iopub.execute_input": "2020-10-15T15:49:21.329139Z",
     "iopub.status.busy": "2020-10-15T15:49:21.328021Z",
     "iopub.status.idle": "2020-10-15T15:49:21.333534Z",
     "shell.execute_reply": "2020-10-15T15:49:21.334100Z"
    },
    "papermill": {
     "duration": 0.088912,
     "end_time": "2020-10-15T15:49:21.334261",
     "exception": false,
     "start_time": "2020-10-15T15:49:21.245349",
     "status": "completed"
    },
    "tags": []
   },
   "outputs": [
    {
     "data": {
      "text/plain": [
       "array([0])"
      ]
     },
     "execution_count": 20,
     "metadata": {},
     "output_type": "execute_result"
    }
   ],
   "source": [
    "#check\n",
    "train_X.ind_var2_0.unique()"
   ]
  },
  {
   "cell_type": "code",
   "execution_count": 21,
   "metadata": {
    "execution": {
     "iopub.execute_input": "2020-10-15T15:49:21.573531Z",
     "iopub.status.busy": "2020-10-15T15:49:21.572760Z",
     "iopub.status.idle": "2020-10-15T15:49:21.576464Z",
     "shell.execute_reply": "2020-10-15T15:49:21.575714Z"
    },
    "papermill": {
     "duration": 0.178625,
     "end_time": "2020-10-15T15:49:21.576643",
     "exception": false,
     "start_time": "2020-10-15T15:49:21.398018",
     "status": "completed"
    },
    "tags": []
   },
   "outputs": [],
   "source": [
    "#dropping constant features from train,test,val set\n",
    "train_X.drop(columns=constCol,axis=1,inplace=True)\n",
    "test_X.drop(columns=constCol,axis=1,inplace=True)\n",
    "val_X.drop(columns=constCol,axis=1,inplace=True)"
   ]
  },
  {
   "cell_type": "code",
   "execution_count": 22,
   "metadata": {
    "execution": {
     "iopub.execute_input": "2020-10-15T15:49:21.709081Z",
     "iopub.status.busy": "2020-10-15T15:49:21.708070Z",
     "iopub.status.idle": "2020-10-15T15:49:21.711660Z",
     "shell.execute_reply": "2020-10-15T15:49:21.712452Z"
    },
    "papermill": {
     "duration": 0.072733,
     "end_time": "2020-10-15T15:49:21.712643",
     "exception": false,
     "start_time": "2020-10-15T15:49:21.639910",
     "status": "completed"
    },
    "tags": []
   },
   "outputs": [
    {
     "name": "stdout",
     "output_type": "stream",
     "text": [
      "(60816, 273)\n",
      "(75818, 273)\n",
      "(15204, 273)\n"
     ]
    }
   ],
   "source": [
    "print(train_X.shape)\n",
    "print(test_X.shape)\n",
    "print(val_X.shape)"
   ]
  },
  {
   "cell_type": "markdown",
   "metadata": {
    "papermill": {
     "duration": 0.06328,
     "end_time": "2020-10-15T15:49:21.840000",
     "exception": false,
     "start_time": "2020-10-15T15:49:21.776720",
     "status": "completed"
    },
    "tags": []
   },
   "source": [
    "*Remove Duplicate features*"
   ]
  },
  {
   "cell_type": "code",
   "execution_count": 23,
   "metadata": {
    "execution": {
     "iopub.execute_input": "2020-10-15T15:49:21.986898Z",
     "iopub.status.busy": "2020-10-15T15:49:21.985820Z",
     "iopub.status.idle": "2020-10-15T15:49:21.989270Z",
     "shell.execute_reply": "2020-10-15T15:49:21.989969Z"
    },
    "papermill": {
     "duration": 0.083885,
     "end_time": "2020-10-15T15:49:21.990131",
     "exception": false,
     "start_time": "2020-10-15T15:49:21.906246",
     "status": "completed"
    },
    "tags": []
   },
   "outputs": [],
   "source": [
    "def duplicateColumns(data):\n",
    "    dupliCols=[]\n",
    "    for i in range(0,len(data.columns)):\n",
    "        col1=data.columns[i]\n",
    "        for col2 in data.columns[i+1:]:\n",
    "            if data[col1].equals(data[col2]):\n",
    "                dupliCols.append(col1+','+col2)\n",
    "    return dupliCols"
   ]
  },
  {
   "cell_type": "code",
   "execution_count": 24,
   "metadata": {
    "execution": {
     "iopub.execute_input": "2020-10-15T15:49:22.127502Z",
     "iopub.status.busy": "2020-10-15T15:49:22.126703Z",
     "iopub.status.idle": "2020-10-15T15:49:25.856162Z",
     "shell.execute_reply": "2020-10-15T15:49:25.855434Z"
    },
    "papermill": {
     "duration": 3.800947,
     "end_time": "2020-10-15T15:49:25.856284",
     "exception": false,
     "start_time": "2020-10-15T15:49:22.055337",
     "status": "completed"
    },
    "tags": []
   },
   "outputs": [
    {
     "data": {
      "text/plain": [
       "['ind_var26',\n",
       " 'ind_var25',\n",
       " 'ind_var37',\n",
       " 'num_var26',\n",
       " 'num_var25',\n",
       " 'num_var32',\n",
       " 'num_var37',\n",
       " 'num_var39',\n",
       " 'saldo_var29',\n",
       " 'saldo_medio_var13_medio_ult1',\n",
       " 'delta_num_reemb_var13_1y3',\n",
       " 'delta_num_reemb_var17_1y3',\n",
       " 'delta_num_reemb_var33_1y3',\n",
       " 'delta_num_trasp_var17_in_1y3',\n",
       " 'delta_num_trasp_var17_out_1y3',\n",
       " 'delta_num_trasp_var33_in_1y3',\n",
       " 'delta_num_trasp_var33_out_1y3']"
      ]
     },
     "execution_count": 24,
     "metadata": {},
     "output_type": "execute_result"
    }
   ],
   "source": [
    "dupCol=duplicateColumns(train_X)\n",
    "dCols=[col.split(',')[1] for col in dupCol]\n",
    "dCols"
   ]
  },
  {
   "cell_type": "code",
   "execution_count": 25,
   "metadata": {
    "execution": {
     "iopub.execute_input": "2020-10-15T15:49:25.993114Z",
     "iopub.status.busy": "2020-10-15T15:49:25.992297Z",
     "iopub.status.idle": "2020-10-15T15:49:25.996657Z",
     "shell.execute_reply": "2020-10-15T15:49:25.995917Z"
    },
    "papermill": {
     "duration": 0.075476,
     "end_time": "2020-10-15T15:49:25.996777",
     "exception": false,
     "start_time": "2020-10-15T15:49:25.921301",
     "status": "completed"
    },
    "tags": []
   },
   "outputs": [
    {
     "data": {
      "text/plain": [
       "['ind_var26_0,ind_var26',\n",
       " 'ind_var25_0,ind_var25',\n",
       " 'ind_var37_0,ind_var37',\n",
       " 'num_var26_0,num_var26',\n",
       " 'num_var25_0,num_var25',\n",
       " 'num_var32_0,num_var32',\n",
       " 'num_var37_0,num_var37',\n",
       " 'num_var40,num_var39',\n",
       " 'saldo_var6,saldo_var29',\n",
       " 'saldo_var13_medio,saldo_medio_var13_medio_ult1',\n",
       " 'delta_imp_reemb_var13_1y3,delta_num_reemb_var13_1y3',\n",
       " 'delta_imp_reemb_var17_1y3,delta_num_reemb_var17_1y3',\n",
       " 'delta_imp_reemb_var33_1y3,delta_num_reemb_var33_1y3',\n",
       " 'delta_imp_trasp_var17_in_1y3,delta_num_trasp_var17_in_1y3',\n",
       " 'delta_imp_trasp_var17_out_1y3,delta_num_trasp_var17_out_1y3',\n",
       " 'delta_imp_trasp_var33_in_1y3,delta_num_trasp_var33_in_1y3',\n",
       " 'delta_imp_trasp_var33_out_1y3,delta_num_trasp_var33_out_1y3']"
      ]
     },
     "execution_count": 25,
     "metadata": {},
     "output_type": "execute_result"
    }
   ],
   "source": [
    "dupCol"
   ]
  },
  {
   "cell_type": "markdown",
   "metadata": {
    "papermill": {
     "duration": 0.064831,
     "end_time": "2020-10-15T15:49:26.126342",
     "exception": false,
     "start_time": "2020-10-15T15:49:26.061511",
     "status": "completed"
    },
    "tags": []
   },
   "source": [
    "delete the any oen of them will be fine but we decide to delete the first column"
   ]
  },
  {
   "cell_type": "code",
   "execution_count": 26,
   "metadata": {
    "execution": {
     "iopub.execute_input": "2020-10-15T15:49:26.262606Z",
     "iopub.status.busy": "2020-10-15T15:49:26.261521Z",
     "iopub.status.idle": "2020-10-15T15:49:26.265446Z",
     "shell.execute_reply": "2020-10-15T15:49:26.264705Z"
    },
    "papermill": {
     "duration": 0.074163,
     "end_time": "2020-10-15T15:49:26.265570",
     "exception": false,
     "start_time": "2020-10-15T15:49:26.191407",
     "status": "completed"
    },
    "tags": []
   },
   "outputs": [],
   "source": [
    "dCols=list(set(dCols))"
   ]
  },
  {
   "cell_type": "code",
   "execution_count": 27,
   "metadata": {
    "execution": {
     "iopub.execute_input": "2020-10-15T15:49:26.550324Z",
     "iopub.status.busy": "2020-10-15T15:49:26.549335Z",
     "iopub.status.idle": "2020-10-15T15:49:26.551967Z",
     "shell.execute_reply": "2020-10-15T15:49:26.552673Z"
    },
    "papermill": {
     "duration": 0.174486,
     "end_time": "2020-10-15T15:49:26.552832",
     "exception": false,
     "start_time": "2020-10-15T15:49:26.378346",
     "status": "completed"
    },
    "tags": []
   },
   "outputs": [],
   "source": [
    "train_X.drop(columns=dCols,axis=1,inplace=True)\n",
    "val_X.drop(columns=dCols,axis=1,inplace=True)\n",
    "test_X.drop(columns=dCols,axis=1,inplace=True)"
   ]
  },
  {
   "cell_type": "markdown",
   "metadata": {
    "papermill": {
     "duration": 0.064679,
     "end_time": "2020-10-15T15:49:26.682906",
     "exception": false,
     "start_time": "2020-10-15T15:49:26.618227",
     "status": "completed"
    },
    "tags": []
   },
   "source": [
    "*Removing Features that are highly correlated to each other*"
   ]
  },
  {
   "cell_type": "code",
   "execution_count": 28,
   "metadata": {
    "execution": {
     "iopub.execute_input": "2020-10-15T15:49:26.822563Z",
     "iopub.status.busy": "2020-10-15T15:49:26.821540Z",
     "iopub.status.idle": "2020-10-15T15:49:26.824649Z",
     "shell.execute_reply": "2020-10-15T15:49:26.824037Z"
    },
    "papermill": {
     "duration": 0.076181,
     "end_time": "2020-10-15T15:49:26.824768",
     "exception": false,
     "start_time": "2020-10-15T15:49:26.748587",
     "status": "completed"
    },
    "tags": []
   },
   "outputs": [],
   "source": [
    "def correlation(dataset,threshold):\n",
    "    col_corr=set() # set will contains unique values.\n",
    "    corr_matrix=dataset.corr() #finding the correlation between columns.\n",
    "    for i in range(len(corr_matrix.columns)): #number of columns\n",
    "        for j in range(i):\n",
    "            if abs(corr_matrix.iloc[i,j])>threshold: #checking the correlation between columns.\n",
    "                colName=corr_matrix.columns[i] #getting the column name\n",
    "                col_corr.add(colName) #adding the correlated column name heigher than threshold value.\n",
    "    return col_corr #returning set of column names"
   ]
  },
  {
   "cell_type": "code",
   "execution_count": 29,
   "metadata": {
    "execution": {
     "iopub.execute_input": "2020-10-15T15:49:26.961844Z",
     "iopub.status.busy": "2020-10-15T15:49:26.961075Z",
     "iopub.status.idle": "2020-10-15T15:49:36.308988Z",
     "shell.execute_reply": "2020-10-15T15:49:36.308331Z"
    },
    "papermill": {
     "duration": 9.418744,
     "end_time": "2020-10-15T15:49:36.309123",
     "exception": false,
     "start_time": "2020-10-15T15:49:26.890379",
     "status": "completed"
    },
    "tags": []
   },
   "outputs": [],
   "source": [
    "corrCol=list(correlation(train_X,0.8))"
   ]
  },
  {
   "cell_type": "code",
   "execution_count": 30,
   "metadata": {
    "execution": {
     "iopub.execute_input": "2020-10-15T15:49:36.445641Z",
     "iopub.status.busy": "2020-10-15T15:49:36.444629Z",
     "iopub.status.idle": "2020-10-15T15:49:36.448798Z",
     "shell.execute_reply": "2020-10-15T15:49:36.449401Z"
    },
    "papermill": {
     "duration": 0.075237,
     "end_time": "2020-10-15T15:49:36.449565",
     "exception": false,
     "start_time": "2020-10-15T15:49:36.374328",
     "status": "completed"
    },
    "tags": []
   },
   "outputs": [
    {
     "data": {
      "text/plain": [
       "129"
      ]
     },
     "execution_count": 30,
     "metadata": {},
     "output_type": "execute_result"
    }
   ],
   "source": [
    "len(corrCol)"
   ]
  },
  {
   "cell_type": "code",
   "execution_count": 31,
   "metadata": {
    "execution": {
     "iopub.execute_input": "2020-10-15T15:49:36.612458Z",
     "iopub.status.busy": "2020-10-15T15:49:36.611358Z",
     "iopub.status.idle": "2020-10-15T15:49:36.650048Z",
     "shell.execute_reply": "2020-10-15T15:49:36.649406Z"
    },
    "papermill": {
     "duration": 0.133669,
     "end_time": "2020-10-15T15:49:36.650189",
     "exception": false,
     "start_time": "2020-10-15T15:49:36.516520",
     "status": "completed"
    },
    "tags": []
   },
   "outputs": [],
   "source": [
    "train_X.drop(columns=corrCol,axis=1,inplace=True)\n",
    "val_X.drop(columns=corrCol,axis=1,inplace=True)\n",
    "test_X.drop(columns=corrCol,axis=1,inplace=True)"
   ]
  },
  {
   "cell_type": "markdown",
   "metadata": {
    "papermill": {
     "duration": 0.065976,
     "end_time": "2020-10-15T15:49:36.782738",
     "exception": false,
     "start_time": "2020-10-15T15:49:36.716762",
     "status": "completed"
    },
    "tags": []
   },
   "source": [
    "We have finished using filter method to select features"
   ]
  },
  {
   "cell_type": "markdown",
   "metadata": {
    "papermill": {
     "duration": 0.066264,
     "end_time": "2020-10-15T15:49:36.915392",
     "exception": false,
     "start_time": "2020-10-15T15:49:36.849128",
     "status": "completed"
    },
    "tags": []
   },
   "source": [
    "*Scale the data*"
   ]
  },
  {
   "cell_type": "code",
   "execution_count": 32,
   "metadata": {
    "execution": {
     "iopub.execute_input": "2020-10-15T15:49:37.055010Z",
     "iopub.status.busy": "2020-10-15T15:49:37.054025Z",
     "iopub.status.idle": "2020-10-15T15:49:37.057164Z",
     "shell.execute_reply": "2020-10-15T15:49:37.056425Z"
    },
    "papermill": {
     "duration": 0.075574,
     "end_time": "2020-10-15T15:49:37.057289",
     "exception": false,
     "start_time": "2020-10-15T15:49:36.981715",
     "status": "completed"
    },
    "tags": []
   },
   "outputs": [],
   "source": [
    "scaler=StandardScaler()"
   ]
  },
  {
   "cell_type": "code",
   "execution_count": 33,
   "metadata": {
    "execution": {
     "iopub.execute_input": "2020-10-15T15:49:37.200578Z",
     "iopub.status.busy": "2020-10-15T15:49:37.199725Z",
     "iopub.status.idle": "2020-10-15T15:49:37.507934Z",
     "shell.execute_reply": "2020-10-15T15:49:37.508542Z"
    },
    "papermill": {
     "duration": 0.384104,
     "end_time": "2020-10-15T15:49:37.508713",
     "exception": false,
     "start_time": "2020-10-15T15:49:37.124609",
     "status": "completed"
    },
    "tags": []
   },
   "outputs": [],
   "source": [
    "train_sca_X = scaler.fit_transform(train_X)\n",
    "test_sca_X = scaler.transform(test_X)\n",
    "val_sca_X = scaler.transform(val_X)"
   ]
  },
  {
   "cell_type": "markdown",
   "metadata": {
    "papermill": {
     "duration": 0.066435,
     "end_time": "2020-10-15T15:49:37.641976",
     "exception": false,
     "start_time": "2020-10-15T15:49:37.575541",
     "status": "completed"
    },
    "tags": []
   },
   "source": [
    "# Oversample Data"
   ]
  },
  {
   "cell_type": "markdown",
   "metadata": {
    "papermill": {
     "duration": 0.067275,
     "end_time": "2020-10-15T15:49:37.775958",
     "exception": false,
     "start_time": "2020-10-15T15:49:37.708683",
     "status": "completed"
    },
    "tags": []
   },
   "source": [
    "*oversample data with smote*"
   ]
  },
  {
   "cell_type": "code",
   "execution_count": 34,
   "metadata": {
    "execution": {
     "iopub.execute_input": "2020-10-15T15:49:37.916677Z",
     "iopub.status.busy": "2020-10-15T15:49:37.915930Z",
     "iopub.status.idle": "2020-10-15T15:49:37.954965Z",
     "shell.execute_reply": "2020-10-15T15:49:37.954302Z"
    },
    "papermill": {
     "duration": 0.112633,
     "end_time": "2020-10-15T15:49:37.955088",
     "exception": false,
     "start_time": "2020-10-15T15:49:37.842455",
     "status": "completed"
    },
    "tags": []
   },
   "outputs": [
    {
     "data": {
      "text/html": [
       "<div>\n",
       "<style scoped>\n",
       "    .dataframe tbody tr th:only-of-type {\n",
       "        vertical-align: middle;\n",
       "    }\n",
       "\n",
       "    .dataframe tbody tr th {\n",
       "        vertical-align: top;\n",
       "    }\n",
       "\n",
       "    .dataframe thead th {\n",
       "        text-align: right;\n",
       "    }\n",
       "</style>\n",
       "<table border=\"1\" class=\"dataframe\">\n",
       "  <thead>\n",
       "    <tr style=\"text-align: right;\">\n",
       "      <th></th>\n",
       "      <th>var3</th>\n",
       "      <th>var15</th>\n",
       "      <th>imp_ent_var16_ult1</th>\n",
       "      <th>imp_op_var39_comer_ult1</th>\n",
       "      <th>imp_op_var40_comer_ult1</th>\n",
       "      <th>imp_op_var40_efect_ult1</th>\n",
       "      <th>imp_op_var40_ult1</th>\n",
       "      <th>imp_op_var41_efect_ult1</th>\n",
       "      <th>imp_sal_var16_ult1</th>\n",
       "      <th>ind_var1_0</th>\n",
       "      <th>...</th>\n",
       "      <th>saldo_medio_var13_largo_hace2</th>\n",
       "      <th>saldo_medio_var13_largo_hace3</th>\n",
       "      <th>saldo_medio_var17_hace2</th>\n",
       "      <th>saldo_medio_var17_hace3</th>\n",
       "      <th>saldo_medio_var29_hace2</th>\n",
       "      <th>saldo_medio_var29_hace3</th>\n",
       "      <th>saldo_medio_var33_hace3</th>\n",
       "      <th>saldo_medio_var44_hace2</th>\n",
       "      <th>saldo_medio_var44_hace3</th>\n",
       "      <th>var38</th>\n",
       "    </tr>\n",
       "    <tr>\n",
       "      <th>ID</th>\n",
       "      <th></th>\n",
       "      <th></th>\n",
       "      <th></th>\n",
       "      <th></th>\n",
       "      <th></th>\n",
       "      <th></th>\n",
       "      <th></th>\n",
       "      <th></th>\n",
       "      <th></th>\n",
       "      <th></th>\n",
       "      <th></th>\n",
       "      <th></th>\n",
       "      <th></th>\n",
       "      <th></th>\n",
       "      <th></th>\n",
       "      <th></th>\n",
       "      <th></th>\n",
       "      <th></th>\n",
       "      <th></th>\n",
       "      <th></th>\n",
       "      <th></th>\n",
       "    </tr>\n",
       "  </thead>\n",
       "  <tbody>\n",
       "    <tr>\n",
       "      <th>259</th>\n",
       "      <td>-0.075606</td>\n",
       "      <td>0.214268</td>\n",
       "      <td>-0.052943</td>\n",
       "      <td>-0.211739</td>\n",
       "      <td>-0.039239</td>\n",
       "      <td>-0.014699</td>\n",
       "      <td>-0.033532</td>\n",
       "      <td>-0.131559</td>\n",
       "      <td>-0.011209</td>\n",
       "      <td>-0.108530</td>\n",
       "      <td>...</td>\n",
       "      <td>-0.060453</td>\n",
       "      <td>-0.03577</td>\n",
       "      <td>-0.018104</td>\n",
       "      <td>-0.008567</td>\n",
       "      <td>-0.005696</td>\n",
       "      <td>-0.004055</td>\n",
       "      <td>-0.011406</td>\n",
       "      <td>-0.014911</td>\n",
       "      <td>-0.01245</td>\n",
       "      <td>-0.322046</td>\n",
       "    </tr>\n",
       "    <tr>\n",
       "      <th>117643</th>\n",
       "      <td>-0.075606</td>\n",
       "      <td>-0.326498</td>\n",
       "      <td>-0.052943</td>\n",
       "      <td>-0.211739</td>\n",
       "      <td>-0.039239</td>\n",
       "      <td>-0.014699</td>\n",
       "      <td>-0.033532</td>\n",
       "      <td>-0.131559</td>\n",
       "      <td>-0.011209</td>\n",
       "      <td>-0.108530</td>\n",
       "      <td>...</td>\n",
       "      <td>-0.060453</td>\n",
       "      <td>-0.03577</td>\n",
       "      <td>-0.018104</td>\n",
       "      <td>-0.008567</td>\n",
       "      <td>-0.005696</td>\n",
       "      <td>-0.004055</td>\n",
       "      <td>-0.011406</td>\n",
       "      <td>-0.014911</td>\n",
       "      <td>-0.01245</td>\n",
       "      <td>-0.097785</td>\n",
       "    </tr>\n",
       "    <tr>\n",
       "      <th>40380</th>\n",
       "      <td>-0.075606</td>\n",
       "      <td>0.137016</td>\n",
       "      <td>-0.052943</td>\n",
       "      <td>1.682257</td>\n",
       "      <td>-0.039239</td>\n",
       "      <td>-0.014699</td>\n",
       "      <td>-0.033532</td>\n",
       "      <td>1.058449</td>\n",
       "      <td>-0.011209</td>\n",
       "      <td>9.214028</td>\n",
       "      <td>...</td>\n",
       "      <td>-0.060453</td>\n",
       "      <td>-0.03577</td>\n",
       "      <td>-0.018104</td>\n",
       "      <td>-0.008567</td>\n",
       "      <td>-0.005696</td>\n",
       "      <td>-0.004055</td>\n",
       "      <td>-0.011406</td>\n",
       "      <td>-0.014911</td>\n",
       "      <td>-0.01245</td>\n",
       "      <td>-0.001145</td>\n",
       "    </tr>\n",
       "    <tr>\n",
       "      <th>125311</th>\n",
       "      <td>-0.075606</td>\n",
       "      <td>-0.790012</td>\n",
       "      <td>-0.052943</td>\n",
       "      <td>-0.211739</td>\n",
       "      <td>-0.039239</td>\n",
       "      <td>-0.014699</td>\n",
       "      <td>-0.033532</td>\n",
       "      <td>-0.131559</td>\n",
       "      <td>-0.011209</td>\n",
       "      <td>-0.108530</td>\n",
       "      <td>...</td>\n",
       "      <td>-0.060453</td>\n",
       "      <td>-0.03577</td>\n",
       "      <td>-0.018104</td>\n",
       "      <td>-0.008567</td>\n",
       "      <td>-0.005696</td>\n",
       "      <td>-0.004055</td>\n",
       "      <td>-0.011406</td>\n",
       "      <td>-0.014911</td>\n",
       "      <td>-0.01245</td>\n",
       "      <td>-0.063606</td>\n",
       "    </tr>\n",
       "    <tr>\n",
       "      <th>87074</th>\n",
       "      <td>-0.075606</td>\n",
       "      <td>-0.790012</td>\n",
       "      <td>-0.052943</td>\n",
       "      <td>-0.211739</td>\n",
       "      <td>-0.039239</td>\n",
       "      <td>-0.014699</td>\n",
       "      <td>-0.033532</td>\n",
       "      <td>-0.131559</td>\n",
       "      <td>-0.011209</td>\n",
       "      <td>-0.108530</td>\n",
       "      <td>...</td>\n",
       "      <td>-0.060453</td>\n",
       "      <td>-0.03577</td>\n",
       "      <td>-0.018104</td>\n",
       "      <td>-0.008567</td>\n",
       "      <td>-0.005696</td>\n",
       "      <td>-0.004055</td>\n",
       "      <td>-0.011406</td>\n",
       "      <td>-0.014911</td>\n",
       "      <td>-0.01245</td>\n",
       "      <td>0.147551</td>\n",
       "    </tr>\n",
       "    <tr>\n",
       "      <th>...</th>\n",
       "      <td>...</td>\n",
       "      <td>...</td>\n",
       "      <td>...</td>\n",
       "      <td>...</td>\n",
       "      <td>...</td>\n",
       "      <td>...</td>\n",
       "      <td>...</td>\n",
       "      <td>...</td>\n",
       "      <td>...</td>\n",
       "      <td>...</td>\n",
       "      <td>...</td>\n",
       "      <td>...</td>\n",
       "      <td>...</td>\n",
       "      <td>...</td>\n",
       "      <td>...</td>\n",
       "      <td>...</td>\n",
       "      <td>...</td>\n",
       "      <td>...</td>\n",
       "      <td>...</td>\n",
       "      <td>...</td>\n",
       "      <td>...</td>\n",
       "    </tr>\n",
       "    <tr>\n",
       "      <th>41285</th>\n",
       "      <td>-0.075606</td>\n",
       "      <td>0.059763</td>\n",
       "      <td>0.417347</td>\n",
       "      <td>1.046271</td>\n",
       "      <td>-0.039239</td>\n",
       "      <td>-0.014699</td>\n",
       "      <td>-0.033532</td>\n",
       "      <td>0.344444</td>\n",
       "      <td>-0.011209</td>\n",
       "      <td>-0.108530</td>\n",
       "      <td>...</td>\n",
       "      <td>-0.060453</td>\n",
       "      <td>-0.03577</td>\n",
       "      <td>-0.018104</td>\n",
       "      <td>-0.008567</td>\n",
       "      <td>-0.005696</td>\n",
       "      <td>-0.004055</td>\n",
       "      <td>-0.011406</td>\n",
       "      <td>-0.014911</td>\n",
       "      <td>-0.01245</td>\n",
       "      <td>-0.307591</td>\n",
       "    </tr>\n",
       "    <tr>\n",
       "      <th>42939</th>\n",
       "      <td>-0.075606</td>\n",
       "      <td>-0.481003</td>\n",
       "      <td>-0.052943</td>\n",
       "      <td>-0.211739</td>\n",
       "      <td>-0.039239</td>\n",
       "      <td>-0.014699</td>\n",
       "      <td>-0.033532</td>\n",
       "      <td>-0.131559</td>\n",
       "      <td>-0.011209</td>\n",
       "      <td>-0.108530</td>\n",
       "      <td>...</td>\n",
       "      <td>-0.060453</td>\n",
       "      <td>-0.03577</td>\n",
       "      <td>-0.018104</td>\n",
       "      <td>-0.008567</td>\n",
       "      <td>-0.005696</td>\n",
       "      <td>-0.004055</td>\n",
       "      <td>-0.011406</td>\n",
       "      <td>-0.014911</td>\n",
       "      <td>-0.01245</td>\n",
       "      <td>-0.001145</td>\n",
       "    </tr>\n",
       "    <tr>\n",
       "      <th>146454</th>\n",
       "      <td>-0.075606</td>\n",
       "      <td>-0.249246</td>\n",
       "      <td>1.059473</td>\n",
       "      <td>-0.211739</td>\n",
       "      <td>-0.039239</td>\n",
       "      <td>-0.014699</td>\n",
       "      <td>-0.033532</td>\n",
       "      <td>-0.131559</td>\n",
       "      <td>-0.011209</td>\n",
       "      <td>-0.108530</td>\n",
       "      <td>...</td>\n",
       "      <td>-0.060453</td>\n",
       "      <td>-0.03577</td>\n",
       "      <td>-0.018104</td>\n",
       "      <td>-0.008567</td>\n",
       "      <td>-0.005696</td>\n",
       "      <td>-0.004055</td>\n",
       "      <td>-0.011406</td>\n",
       "      <td>-0.014911</td>\n",
       "      <td>-0.01245</td>\n",
       "      <td>2.818102</td>\n",
       "    </tr>\n",
       "    <tr>\n",
       "      <th>99950</th>\n",
       "      <td>-0.075606</td>\n",
       "      <td>-0.481003</td>\n",
       "      <td>-0.052943</td>\n",
       "      <td>-0.211739</td>\n",
       "      <td>-0.039239</td>\n",
       "      <td>-0.014699</td>\n",
       "      <td>-0.033532</td>\n",
       "      <td>-0.131559</td>\n",
       "      <td>-0.011209</td>\n",
       "      <td>-0.108530</td>\n",
       "      <td>...</td>\n",
       "      <td>-0.060453</td>\n",
       "      <td>-0.03577</td>\n",
       "      <td>-0.018104</td>\n",
       "      <td>-0.008567</td>\n",
       "      <td>-0.005696</td>\n",
       "      <td>-0.004055</td>\n",
       "      <td>-0.011406</td>\n",
       "      <td>-0.014911</td>\n",
       "      <td>-0.01245</td>\n",
       "      <td>-0.001145</td>\n",
       "    </tr>\n",
       "    <tr>\n",
       "      <th>10395</th>\n",
       "      <td>-0.075606</td>\n",
       "      <td>0.214268</td>\n",
       "      <td>-0.052943</td>\n",
       "      <td>0.837122</td>\n",
       "      <td>-0.039239</td>\n",
       "      <td>-0.014699</td>\n",
       "      <td>-0.033532</td>\n",
       "      <td>0.344444</td>\n",
       "      <td>-0.011209</td>\n",
       "      <td>-0.108530</td>\n",
       "      <td>...</td>\n",
       "      <td>-0.060453</td>\n",
       "      <td>-0.03577</td>\n",
       "      <td>-0.018104</td>\n",
       "      <td>-0.008567</td>\n",
       "      <td>-0.005696</td>\n",
       "      <td>-0.004055</td>\n",
       "      <td>-0.011406</td>\n",
       "      <td>-0.014911</td>\n",
       "      <td>-0.01245</td>\n",
       "      <td>-0.150524</td>\n",
       "    </tr>\n",
       "  </tbody>\n",
       "</table>\n",
       "<p>60816 rows × 127 columns</p>\n",
       "</div>"
      ],
      "text/plain": [
       "            var3     var15  imp_ent_var16_ult1  imp_op_var39_comer_ult1  \\\n",
       "ID                                                                        \n",
       "259    -0.075606  0.214268           -0.052943                -0.211739   \n",
       "117643 -0.075606 -0.326498           -0.052943                -0.211739   \n",
       "40380  -0.075606  0.137016           -0.052943                 1.682257   \n",
       "125311 -0.075606 -0.790012           -0.052943                -0.211739   \n",
       "87074  -0.075606 -0.790012           -0.052943                -0.211739   \n",
       "...          ...       ...                 ...                      ...   \n",
       "41285  -0.075606  0.059763            0.417347                 1.046271   \n",
       "42939  -0.075606 -0.481003           -0.052943                -0.211739   \n",
       "146454 -0.075606 -0.249246            1.059473                -0.211739   \n",
       "99950  -0.075606 -0.481003           -0.052943                -0.211739   \n",
       "10395  -0.075606  0.214268           -0.052943                 0.837122   \n",
       "\n",
       "        imp_op_var40_comer_ult1  imp_op_var40_efect_ult1  imp_op_var40_ult1  \\\n",
       "ID                                                                            \n",
       "259                   -0.039239                -0.014699          -0.033532   \n",
       "117643                -0.039239                -0.014699          -0.033532   \n",
       "40380                 -0.039239                -0.014699          -0.033532   \n",
       "125311                -0.039239                -0.014699          -0.033532   \n",
       "87074                 -0.039239                -0.014699          -0.033532   \n",
       "...                         ...                      ...                ...   \n",
       "41285                 -0.039239                -0.014699          -0.033532   \n",
       "42939                 -0.039239                -0.014699          -0.033532   \n",
       "146454                -0.039239                -0.014699          -0.033532   \n",
       "99950                 -0.039239                -0.014699          -0.033532   \n",
       "10395                 -0.039239                -0.014699          -0.033532   \n",
       "\n",
       "        imp_op_var41_efect_ult1  imp_sal_var16_ult1  ind_var1_0  ...  \\\n",
       "ID                                                               ...   \n",
       "259                   -0.131559           -0.011209   -0.108530  ...   \n",
       "117643                -0.131559           -0.011209   -0.108530  ...   \n",
       "40380                  1.058449           -0.011209    9.214028  ...   \n",
       "125311                -0.131559           -0.011209   -0.108530  ...   \n",
       "87074                 -0.131559           -0.011209   -0.108530  ...   \n",
       "...                         ...                 ...         ...  ...   \n",
       "41285                  0.344444           -0.011209   -0.108530  ...   \n",
       "42939                 -0.131559           -0.011209   -0.108530  ...   \n",
       "146454                -0.131559           -0.011209   -0.108530  ...   \n",
       "99950                 -0.131559           -0.011209   -0.108530  ...   \n",
       "10395                  0.344444           -0.011209   -0.108530  ...   \n",
       "\n",
       "        saldo_medio_var13_largo_hace2  saldo_medio_var13_largo_hace3  \\\n",
       "ID                                                                     \n",
       "259                         -0.060453                       -0.03577   \n",
       "117643                      -0.060453                       -0.03577   \n",
       "40380                       -0.060453                       -0.03577   \n",
       "125311                      -0.060453                       -0.03577   \n",
       "87074                       -0.060453                       -0.03577   \n",
       "...                               ...                            ...   \n",
       "41285                       -0.060453                       -0.03577   \n",
       "42939                       -0.060453                       -0.03577   \n",
       "146454                      -0.060453                       -0.03577   \n",
       "99950                       -0.060453                       -0.03577   \n",
       "10395                       -0.060453                       -0.03577   \n",
       "\n",
       "        saldo_medio_var17_hace2  saldo_medio_var17_hace3  \\\n",
       "ID                                                         \n",
       "259                   -0.018104                -0.008567   \n",
       "117643                -0.018104                -0.008567   \n",
       "40380                 -0.018104                -0.008567   \n",
       "125311                -0.018104                -0.008567   \n",
       "87074                 -0.018104                -0.008567   \n",
       "...                         ...                      ...   \n",
       "41285                 -0.018104                -0.008567   \n",
       "42939                 -0.018104                -0.008567   \n",
       "146454                -0.018104                -0.008567   \n",
       "99950                 -0.018104                -0.008567   \n",
       "10395                 -0.018104                -0.008567   \n",
       "\n",
       "        saldo_medio_var29_hace2  saldo_medio_var29_hace3  \\\n",
       "ID                                                         \n",
       "259                   -0.005696                -0.004055   \n",
       "117643                -0.005696                -0.004055   \n",
       "40380                 -0.005696                -0.004055   \n",
       "125311                -0.005696                -0.004055   \n",
       "87074                 -0.005696                -0.004055   \n",
       "...                         ...                      ...   \n",
       "41285                 -0.005696                -0.004055   \n",
       "42939                 -0.005696                -0.004055   \n",
       "146454                -0.005696                -0.004055   \n",
       "99950                 -0.005696                -0.004055   \n",
       "10395                 -0.005696                -0.004055   \n",
       "\n",
       "        saldo_medio_var33_hace3  saldo_medio_var44_hace2  \\\n",
       "ID                                                         \n",
       "259                   -0.011406                -0.014911   \n",
       "117643                -0.011406                -0.014911   \n",
       "40380                 -0.011406                -0.014911   \n",
       "125311                -0.011406                -0.014911   \n",
       "87074                 -0.011406                -0.014911   \n",
       "...                         ...                      ...   \n",
       "41285                 -0.011406                -0.014911   \n",
       "42939                 -0.011406                -0.014911   \n",
       "146454                -0.011406                -0.014911   \n",
       "99950                 -0.011406                -0.014911   \n",
       "10395                 -0.011406                -0.014911   \n",
       "\n",
       "        saldo_medio_var44_hace3     var38  \n",
       "ID                                         \n",
       "259                    -0.01245 -0.322046  \n",
       "117643                 -0.01245 -0.097785  \n",
       "40380                  -0.01245 -0.001145  \n",
       "125311                 -0.01245 -0.063606  \n",
       "87074                  -0.01245  0.147551  \n",
       "...                         ...       ...  \n",
       "41285                  -0.01245 -0.307591  \n",
       "42939                  -0.01245 -0.001145  \n",
       "146454                 -0.01245  2.818102  \n",
       "99950                  -0.01245 -0.001145  \n",
       "10395                  -0.01245 -0.150524  \n",
       "\n",
       "[60816 rows x 127 columns]"
      ]
     },
     "execution_count": 34,
     "metadata": {},
     "output_type": "execute_result"
    }
   ],
   "source": [
    "pd.DataFrame(train_sca_X,columns=train_X.columns,index=train_X.index)"
   ]
  },
  {
   "cell_type": "code",
   "execution_count": 35,
   "metadata": {
    "execution": {
     "iopub.execute_input": "2020-10-15T15:49:38.099226Z",
     "iopub.status.busy": "2020-10-15T15:49:38.098453Z",
     "iopub.status.idle": "2020-10-15T15:49:39.811666Z",
     "shell.execute_reply": "2020-10-15T15:49:39.812604Z"
    },
    "papermill": {
     "duration": 1.787909,
     "end_time": "2020-10-15T15:49:39.812810",
     "exception": false,
     "start_time": "2020-10-15T15:49:38.024901",
     "status": "completed"
    },
    "tags": []
   },
   "outputs": [],
   "source": [
    "sm = SMOTE(random_state=42)\n",
    "train_res_X, train_res_y = sm.fit_resample(train_sca_X, train_y)"
   ]
  },
  {
   "cell_type": "code",
   "execution_count": 36,
   "metadata": {
    "execution": {
     "iopub.execute_input": "2020-10-15T15:49:39.963656Z",
     "iopub.status.busy": "2020-10-15T15:49:39.962586Z",
     "iopub.status.idle": "2020-10-15T15:49:39.971347Z",
     "shell.execute_reply": "2020-10-15T15:49:39.970614Z"
    },
    "papermill": {
     "duration": 0.08571,
     "end_time": "2020-10-15T15:49:39.971466",
     "exception": false,
     "start_time": "2020-10-15T15:49:39.885756",
     "status": "completed"
    },
    "tags": []
   },
   "outputs": [
    {
     "data": {
      "text/plain": [
       "1    58411\n",
       "0    58411\n",
       "Name: TARGET, dtype: int64"
      ]
     },
     "execution_count": 36,
     "metadata": {},
     "output_type": "execute_result"
    }
   ],
   "source": [
    "train_res_y.value_counts()"
   ]
  },
  {
   "cell_type": "markdown",
   "metadata": {
    "papermill": {
     "duration": 0.070712,
     "end_time": "2020-10-15T15:49:40.113775",
     "exception": false,
     "start_time": "2020-10-15T15:49:40.043063",
     "status": "completed"
    },
    "tags": []
   },
   "source": [
    "# Modelling with xgboost"
   ]
  },
  {
   "cell_type": "code",
   "execution_count": 37,
   "metadata": {
    "execution": {
     "iopub.execute_input": "2020-10-15T15:49:40.264702Z",
     "iopub.status.busy": "2020-10-15T15:49:40.263888Z",
     "iopub.status.idle": "2020-10-15T15:49:40.267175Z",
     "shell.execute_reply": "2020-10-15T15:49:40.266445Z"
    },
    "papermill": {
     "duration": 0.08011,
     "end_time": "2020-10-15T15:49:40.267303",
     "exception": false,
     "start_time": "2020-10-15T15:49:40.187193",
     "status": "completed"
    },
    "tags": []
   },
   "outputs": [],
   "source": [
    "baseline_xgb_clf = XGBClassifier(random_state=20)"
   ]
  },
  {
   "cell_type": "code",
   "execution_count": 38,
   "metadata": {
    "execution": {
     "iopub.execute_input": "2020-10-15T15:49:40.415132Z",
     "iopub.status.busy": "2020-10-15T15:49:40.414242Z",
     "iopub.status.idle": "2020-10-15T15:49:50.569785Z",
     "shell.execute_reply": "2020-10-15T15:49:50.570941Z"
    },
    "papermill": {
     "duration": 10.233871,
     "end_time": "2020-10-15T15:49:50.571126",
     "exception": false,
     "start_time": "2020-10-15T15:49:40.337255",
     "status": "completed"
    },
    "tags": []
   },
   "outputs": [
    {
     "name": "stdout",
     "output_type": "stream",
     "text": [
      "[0]\tvalidation_0-auc:0.80285\n",
      "Will train until validation_0-auc hasn't improved in 20 rounds.\n",
      "[1]\tvalidation_0-auc:0.81442\n",
      "[2]\tvalidation_0-auc:0.81664\n",
      "[3]\tvalidation_0-auc:0.81857\n",
      "[4]\tvalidation_0-auc:0.81757\n",
      "[5]\tvalidation_0-auc:0.81855\n",
      "[6]\tvalidation_0-auc:0.81872\n",
      "[7]\tvalidation_0-auc:0.81821\n",
      "[8]\tvalidation_0-auc:0.81827\n",
      "[9]\tvalidation_0-auc:0.81822\n",
      "[10]\tvalidation_0-auc:0.81720\n",
      "[11]\tvalidation_0-auc:0.81441\n",
      "[12]\tvalidation_0-auc:0.81358\n",
      "[13]\tvalidation_0-auc:0.81112\n",
      "[14]\tvalidation_0-auc:0.81195\n",
      "[15]\tvalidation_0-auc:0.81085\n",
      "[16]\tvalidation_0-auc:0.80955\n",
      "[17]\tvalidation_0-auc:0.80778\n",
      "[18]\tvalidation_0-auc:0.80574\n",
      "[19]\tvalidation_0-auc:0.80487\n",
      "[20]\tvalidation_0-auc:0.80441\n",
      "[21]\tvalidation_0-auc:0.80317\n",
      "[22]\tvalidation_0-auc:0.80368\n",
      "[23]\tvalidation_0-auc:0.80164\n",
      "[24]\tvalidation_0-auc:0.80096\n",
      "[25]\tvalidation_0-auc:0.79970\n",
      "[26]\tvalidation_0-auc:0.79830\n",
      "Stopping. Best iteration:\n",
      "[6]\tvalidation_0-auc:0.81872\n",
      "\n"
     ]
    },
    {
     "data": {
      "text/plain": [
       "XGBClassifier(base_score=0.5, booster='gbtree', colsample_bylevel=1,\n",
       "              colsample_bynode=1, colsample_bytree=1, gamma=0, gpu_id=-1,\n",
       "              importance_type='gain', interaction_constraints='',\n",
       "              learning_rate=0.300000012, max_delta_step=0, max_depth=6,\n",
       "              min_child_weight=1, missing=nan, monotone_constraints='()',\n",
       "              n_estimators=100, n_jobs=0, num_parallel_tree=1, random_state=20,\n",
       "              reg_alpha=0, reg_lambda=1, scale_pos_weight=1, subsample=1,\n",
       "              tree_method='exact', validate_parameters=1, verbosity=None)"
      ]
     },
     "execution_count": 38,
     "metadata": {},
     "output_type": "execute_result"
    }
   ],
   "source": [
    "baseline_xgb_clf.fit(train_res_X,train_res_y,early_stopping_rounds=20,eval_metric=\"auc\",eval_set=[(val_sca_X, val_y)])"
   ]
  },
  {
   "cell_type": "code",
   "execution_count": 39,
   "metadata": {
    "execution": {
     "iopub.execute_input": "2020-10-15T15:49:50.781279Z",
     "iopub.status.busy": "2020-10-15T15:49:50.779990Z",
     "iopub.status.idle": "2020-10-15T15:49:50.850205Z",
     "shell.execute_reply": "2020-10-15T15:49:50.850758Z"
    },
    "papermill": {
     "duration": 0.166337,
     "end_time": "2020-10-15T15:49:50.850976",
     "exception": false,
     "start_time": "2020-10-15T15:49:50.684639",
     "status": "completed"
    },
    "tags": []
   },
   "outputs": [],
   "source": [
    "pred_y = baseline_xgb_clf.predict_proba(val_sca_X)[:,1]"
   ]
  },
  {
   "cell_type": "code",
   "execution_count": 40,
   "metadata": {
    "execution": {
     "iopub.execute_input": "2020-10-15T15:49:51.061094Z",
     "iopub.status.busy": "2020-10-15T15:49:51.059906Z",
     "iopub.status.idle": "2020-10-15T15:49:51.074345Z",
     "shell.execute_reply": "2020-10-15T15:49:51.073648Z"
    },
    "papermill": {
     "duration": 0.121756,
     "end_time": "2020-10-15T15:49:51.074485",
     "exception": false,
     "start_time": "2020-10-15T15:49:50.952729",
     "status": "completed"
    },
    "tags": []
   },
   "outputs": [
    {
     "data": {
      "text/plain": [
       "0.8187239952555556"
      ]
     },
     "execution_count": 40,
     "metadata": {},
     "output_type": "execute_result"
    }
   ],
   "source": [
    "roc_auc_score(val_y,pred_y)"
   ]
  },
  {
   "cell_type": "markdown",
   "metadata": {
    "papermill": {
     "duration": 0.086322,
     "end_time": "2020-10-15T15:49:51.248655",
     "exception": false,
     "start_time": "2020-10-15T15:49:51.162333",
     "status": "completed"
    },
    "tags": []
   },
   "source": [
    "The Above Model has performed relatively well. Let's see if we could improve results by hyperparameter tuning"
   ]
  },
  {
   "cell_type": "markdown",
   "metadata": {
    "papermill": {
     "duration": 0.091252,
     "end_time": "2020-10-15T15:49:51.426022",
     "exception": false,
     "start_time": "2020-10-15T15:49:51.334770",
     "status": "completed"
    },
    "tags": []
   },
   "source": [
    "# Hyperparameter Tuning"
   ]
  },
  {
   "cell_type": "markdown",
   "metadata": {
    "papermill": {
     "duration": 0.091363,
     "end_time": "2020-10-15T15:49:51.603050",
     "exception": false,
     "start_time": "2020-10-15T15:49:51.511687",
     "status": "completed"
    },
    "tags": []
   },
   "source": [
    "Using Grid Search Cross Validation to find best hyperparameters"
   ]
  },
  {
   "cell_type": "code",
   "execution_count": 41,
   "metadata": {
    "execution": {
     "iopub.execute_input": "2020-10-15T15:49:51.781376Z",
     "iopub.status.busy": "2020-10-15T15:49:51.780427Z",
     "iopub.status.idle": "2020-10-15T15:49:51.783595Z",
     "shell.execute_reply": "2020-10-15T15:49:51.784172Z"
    },
    "papermill": {
     "duration": 0.09435,
     "end_time": "2020-10-15T15:49:51.784330",
     "exception": false,
     "start_time": "2020-10-15T15:49:51.689980",
     "status": "completed"
    },
    "tags": []
   },
   "outputs": [],
   "source": [
    "# param_grid = {\"learning_rate\"    : [0.05, 0.10] ,\n",
    "#  \"max_depth\"        : [5, 6, 8, 10],\n",
    "#  \"min_child_weight\" : [ 1, 3, 5],\n",
    "#  \"gamma\"            : [ 0.0, 0.1, 0.2 , 0.3, 0.4],\n",
    "#  \"colsample_bytree\" : [ 0.3, 0.4, 0.5 , 0.7 ] }"
   ]
  },
  {
   "cell_type": "code",
   "execution_count": 42,
   "metadata": {
    "execution": {
     "iopub.execute_input": "2020-10-15T15:49:51.963590Z",
     "iopub.status.busy": "2020-10-15T15:49:51.962532Z",
     "iopub.status.idle": "2020-10-15T15:49:51.966200Z",
     "shell.execute_reply": "2020-10-15T15:49:51.965386Z"
    },
    "papermill": {
     "duration": 0.096338,
     "end_time": "2020-10-15T15:49:51.966333",
     "exception": false,
     "start_time": "2020-10-15T15:49:51.869995",
     "status": "completed"
    },
    "tags": []
   },
   "outputs": [],
   "source": [
    "xgb_clf=XGBClassifier()"
   ]
  },
  {
   "cell_type": "code",
   "execution_count": 43,
   "metadata": {
    "execution": {
     "iopub.execute_input": "2020-10-15T15:49:52.145806Z",
     "iopub.status.busy": "2020-10-15T15:49:52.144781Z",
     "iopub.status.idle": "2020-10-15T15:49:52.148729Z",
     "shell.execute_reply": "2020-10-15T15:49:52.147919Z"
    },
    "papermill": {
     "duration": 0.09546,
     "end_time": "2020-10-15T15:49:52.148857",
     "exception": false,
     "start_time": "2020-10-15T15:49:52.053397",
     "status": "completed"
    },
    "tags": []
   },
   "outputs": [],
   "source": [
    "# best_score=0\n",
    "# for g in ParameterGrid(param_grid):\n",
    "#      xgb_clf.set_params(**g)\n",
    "#      xgb_clf.fit(train_res_X,train_res_y,early_stopping_rounds=20,eval_metric=\"auc\",eval_set=[(val_sca_X, val_y)])\n",
    "#      pred_y = xgb_clf.predict_proba(val_sca_X)[:,1]\n",
    "#      score=roc_auc_score(val_y,pred_y)\n",
    "#      if score > best_score:\n",
    "#          best_score = roc_auc_score(val_y,pred_y)\n",
    "#          best_grid = g"
   ]
  },
  {
   "cell_type": "code",
   "execution_count": 44,
   "metadata": {
    "execution": {
     "iopub.execute_input": "2020-10-15T15:49:52.331181Z",
     "iopub.status.busy": "2020-10-15T15:49:52.330067Z",
     "iopub.status.idle": "2020-10-15T15:49:52.333700Z",
     "shell.execute_reply": "2020-10-15T15:49:52.332848Z"
    },
    "papermill": {
     "duration": 0.098058,
     "end_time": "2020-10-15T15:49:52.333835",
     "exception": false,
     "start_time": "2020-10-15T15:49:52.235777",
     "status": "completed"
    },
    "tags": []
   },
   "outputs": [],
   "source": [
    "best_grid={'colsample_bytree': 0.7,\n",
    " 'gamma': 0.1,\n",
    " 'learning_rate': 0.1,\n",
    " 'max_depth': 6,\n",
    " 'min_child_weight': 1}"
   ]
  },
  {
   "cell_type": "code",
   "execution_count": 45,
   "metadata": {
    "execution": {
     "iopub.execute_input": "2020-10-15T15:49:52.513567Z",
     "iopub.status.busy": "2020-10-15T15:49:52.512751Z",
     "iopub.status.idle": "2020-10-15T15:50:02.328797Z",
     "shell.execute_reply": "2020-10-15T15:50:02.329776Z"
    },
    "papermill": {
     "duration": 9.90867,
     "end_time": "2020-10-15T15:50:02.329990",
     "exception": false,
     "start_time": "2020-10-15T15:49:52.421320",
     "status": "completed"
    },
    "tags": []
   },
   "outputs": [
    {
     "name": "stdout",
     "output_type": "stream",
     "text": [
      "[0]\tvalidation_0-auc:0.81548\n",
      "Will train until validation_0-auc hasn't improved in 20 rounds.\n",
      "[1]\tvalidation_0-auc:0.81741\n",
      "[2]\tvalidation_0-auc:0.81953\n",
      "[3]\tvalidation_0-auc:0.81914\n",
      "[4]\tvalidation_0-auc:0.82291\n",
      "[5]\tvalidation_0-auc:0.82408\n",
      "[6]\tvalidation_0-auc:0.82565\n",
      "[7]\tvalidation_0-auc:0.82503\n",
      "[8]\tvalidation_0-auc:0.82430\n",
      "[9]\tvalidation_0-auc:0.82427\n",
      "[10]\tvalidation_0-auc:0.82454\n",
      "[11]\tvalidation_0-auc:0.82480\n",
      "[12]\tvalidation_0-auc:0.82524\n",
      "[13]\tvalidation_0-auc:0.82568\n",
      "[14]\tvalidation_0-auc:0.82563\n",
      "[15]\tvalidation_0-auc:0.82516\n",
      "[16]\tvalidation_0-auc:0.82431\n",
      "[17]\tvalidation_0-auc:0.82456\n",
      "[18]\tvalidation_0-auc:0.82501\n",
      "[19]\tvalidation_0-auc:0.82455\n",
      "[20]\tvalidation_0-auc:0.82418\n",
      "[21]\tvalidation_0-auc:0.82379\n",
      "[22]\tvalidation_0-auc:0.82300\n",
      "[23]\tvalidation_0-auc:0.82239\n",
      "[24]\tvalidation_0-auc:0.82212\n",
      "[25]\tvalidation_0-auc:0.82198\n",
      "[26]\tvalidation_0-auc:0.82186\n",
      "[27]\tvalidation_0-auc:0.82179\n",
      "[28]\tvalidation_0-auc:0.82149\n",
      "[29]\tvalidation_0-auc:0.82145\n",
      "[30]\tvalidation_0-auc:0.82145\n",
      "[31]\tvalidation_0-auc:0.82155\n",
      "[32]\tvalidation_0-auc:0.82137\n",
      "[33]\tvalidation_0-auc:0.82159\n",
      "Stopping. Best iteration:\n",
      "[13]\tvalidation_0-auc:0.82568\n",
      "\n"
     ]
    },
    {
     "data": {
      "text/plain": [
       "XGBClassifier(base_score=0.5, booster='gbtree', colsample_bylevel=1,\n",
       "              colsample_bynode=1, colsample_bytree=0.7, gamma=0.1, gpu_id=-1,\n",
       "              importance_type='gain', interaction_constraints='',\n",
       "              learning_rate=0.1, max_delta_step=0, max_depth=6,\n",
       "              min_child_weight=1, missing=nan, monotone_constraints='()',\n",
       "              n_estimators=100, n_jobs=0, num_parallel_tree=1, random_state=0,\n",
       "              reg_alpha=0, reg_lambda=1, scale_pos_weight=1, subsample=1,\n",
       "              tree_method='exact', validate_parameters=1, verbosity=None)"
      ]
     },
     "execution_count": 45,
     "metadata": {},
     "output_type": "execute_result"
    }
   ],
   "source": [
    "xgb_clf.set_params(**best_grid)\n",
    "xgb_clf.fit(train_res_X,train_res_y,early_stopping_rounds=20,eval_metric=\"auc\",eval_set=[(val_sca_X, val_y)])"
   ]
  },
  {
   "cell_type": "markdown",
   "metadata": {
    "papermill": {
     "duration": 0.105066,
     "end_time": "2020-10-15T15:50:02.553814",
     "exception": false,
     "start_time": "2020-10-15T15:50:02.448748",
     "status": "completed"
    },
    "tags": []
   },
   "source": [
    "We have finished hyperparameter tuning. Now we should make a prediction on the test set"
   ]
  },
  {
   "cell_type": "code",
   "execution_count": 46,
   "metadata": {
    "execution": {
     "iopub.execute_input": "2020-10-15T15:50:02.758571Z",
     "iopub.status.busy": "2020-10-15T15:50:02.757439Z",
     "iopub.status.idle": "2020-10-15T15:50:03.161408Z",
     "shell.execute_reply": "2020-10-15T15:50:03.162138Z"
    },
    "papermill": {
     "duration": 0.508283,
     "end_time": "2020-10-15T15:50:03.162339",
     "exception": false,
     "start_time": "2020-10-15T15:50:02.654056",
     "status": "completed"
    },
    "tags": []
   },
   "outputs": [],
   "source": [
    "pred_y = xgb_clf.predict_proba(test_sca_X)[:,1]"
   ]
  },
  {
   "cell_type": "code",
   "execution_count": 47,
   "metadata": {
    "execution": {
     "iopub.execute_input": "2020-10-15T15:50:03.398558Z",
     "iopub.status.busy": "2020-10-15T15:50:03.397645Z",
     "iopub.status.idle": "2020-10-15T15:50:03.402289Z",
     "shell.execute_reply": "2020-10-15T15:50:03.401255Z"
    },
    "papermill": {
     "duration": 0.121379,
     "end_time": "2020-10-15T15:50:03.402474",
     "exception": false,
     "start_time": "2020-10-15T15:50:03.281095",
     "status": "completed"
    },
    "tags": []
   },
   "outputs": [],
   "source": [
    "subs = pd.DataFrame(({'ID': test_X.index, 'TARGET': pred_y}))"
   ]
  },
  {
   "cell_type": "markdown",
   "metadata": {
    "papermill": {
     "duration": 0.098175,
     "end_time": "2020-10-15T15:50:03.601607",
     "exception": false,
     "start_time": "2020-10-15T15:50:03.503432",
     "status": "completed"
    },
    "tags": []
   },
   "source": [
    "Another set of grid search to find best hyperparameter"
   ]
  },
  {
   "cell_type": "code",
   "execution_count": 48,
   "metadata": {
    "execution": {
     "iopub.execute_input": "2020-10-15T15:50:03.807715Z",
     "iopub.status.busy": "2020-10-15T15:50:03.806938Z",
     "iopub.status.idle": "2020-10-15T15:50:03.810166Z",
     "shell.execute_reply": "2020-10-15T15:50:03.809431Z"
    },
    "papermill": {
     "duration": 0.10937,
     "end_time": "2020-10-15T15:50:03.810290",
     "exception": false,
     "start_time": "2020-10-15T15:50:03.700920",
     "status": "completed"
    },
    "tags": []
   },
   "outputs": [],
   "source": [
    "param_grid = {\"learning_rate\"    : [0.03] ,\n",
    "  \"max_depth\"        : [6],\n",
    " \"min_child_weight\" : [ 0,1],\n",
    " \"gamma\"            : [ 0.1],\n",
    "\"n_estimators\": [150,200,250],\n",
    "\"colsample_bytree\" : [ 0.8,0.85] }"
   ]
  },
  {
   "cell_type": "code",
   "execution_count": 49,
   "metadata": {
    "execution": {
     "iopub.execute_input": "2020-10-15T15:50:04.017262Z",
     "iopub.status.busy": "2020-10-15T15:50:04.016395Z",
     "iopub.status.idle": "2020-10-15T15:50:04.021760Z",
     "shell.execute_reply": "2020-10-15T15:50:04.021150Z"
    },
    "papermill": {
     "duration": 0.111998,
     "end_time": "2020-10-15T15:50:04.021918",
     "exception": false,
     "start_time": "2020-10-15T15:50:03.909920",
     "status": "completed"
    },
    "tags": []
   },
   "outputs": [
    {
     "data": {
      "text/plain": [
       "12"
      ]
     },
     "execution_count": 49,
     "metadata": {},
     "output_type": "execute_result"
    }
   ],
   "source": [
    "len(list(ParameterGrid(param_grid)))"
   ]
  },
  {
   "cell_type": "code",
   "execution_count": 50,
   "metadata": {
    "execution": {
     "iopub.execute_input": "2020-10-15T15:50:04.240044Z",
     "iopub.status.busy": "2020-10-15T15:50:04.238944Z",
     "iopub.status.idle": "2020-10-15T15:53:55.510279Z",
     "shell.execute_reply": "2020-10-15T15:53:55.511049Z"
    },
    "papermill": {
     "duration": 231.385883,
     "end_time": "2020-10-15T15:53:55.511257",
     "exception": false,
     "start_time": "2020-10-15T15:50:04.125374",
     "status": "completed"
    },
    "tags": []
   },
   "outputs": [
    {
     "name": "stdout",
     "output_type": "stream",
     "text": [
      "[0]\tvalidation_0-auc:0.81541\n",
      "Will train until validation_0-auc hasn't improved in 20 rounds.\n",
      "[1]\tvalidation_0-auc:0.81453\n",
      "[2]\tvalidation_0-auc:0.81730\n",
      "[3]\tvalidation_0-auc:0.81483\n",
      "[4]\tvalidation_0-auc:0.81791\n",
      "[5]\tvalidation_0-auc:0.81922\n",
      "[6]\tvalidation_0-auc:0.82002\n",
      "[7]\tvalidation_0-auc:0.82037\n",
      "[8]\tvalidation_0-auc:0.82085\n",
      "[9]\tvalidation_0-auc:0.82128\n",
      "[10]\tvalidation_0-auc:0.82196\n",
      "[11]\tvalidation_0-auc:0.82220\n",
      "[12]\tvalidation_0-auc:0.82187\n",
      "[13]\tvalidation_0-auc:0.82178\n",
      "[14]\tvalidation_0-auc:0.82193\n",
      "[15]\tvalidation_0-auc:0.82245\n",
      "[16]\tvalidation_0-auc:0.82293\n",
      "[17]\tvalidation_0-auc:0.82287\n",
      "[18]\tvalidation_0-auc:0.82280\n",
      "[19]\tvalidation_0-auc:0.82301\n",
      "[20]\tvalidation_0-auc:0.82283\n",
      "[21]\tvalidation_0-auc:0.82336\n",
      "[22]\tvalidation_0-auc:0.82392\n",
      "[23]\tvalidation_0-auc:0.82441\n",
      "[24]\tvalidation_0-auc:0.82474\n",
      "[25]\tvalidation_0-auc:0.82489\n",
      "[26]\tvalidation_0-auc:0.82503\n",
      "[27]\tvalidation_0-auc:0.82518\n",
      "[28]\tvalidation_0-auc:0.82491\n",
      "[29]\tvalidation_0-auc:0.82490\n",
      "[30]\tvalidation_0-auc:0.82506\n",
      "[31]\tvalidation_0-auc:0.82502\n",
      "[32]\tvalidation_0-auc:0.82516\n",
      "[33]\tvalidation_0-auc:0.82531\n",
      "[34]\tvalidation_0-auc:0.82536\n",
      "[35]\tvalidation_0-auc:0.82510\n",
      "[36]\tvalidation_0-auc:0.82512\n",
      "[37]\tvalidation_0-auc:0.82517\n",
      "[38]\tvalidation_0-auc:0.82506\n",
      "[39]\tvalidation_0-auc:0.82491\n",
      "[40]\tvalidation_0-auc:0.82506\n",
      "[41]\tvalidation_0-auc:0.82505\n",
      "[42]\tvalidation_0-auc:0.82497\n",
      "[43]\tvalidation_0-auc:0.82508\n",
      "[44]\tvalidation_0-auc:0.82516\n",
      "[45]\tvalidation_0-auc:0.82523\n",
      "[46]\tvalidation_0-auc:0.82523\n",
      "[47]\tvalidation_0-auc:0.82521\n",
      "[48]\tvalidation_0-auc:0.82513\n",
      "[49]\tvalidation_0-auc:0.82503\n",
      "[50]\tvalidation_0-auc:0.82518\n",
      "[51]\tvalidation_0-auc:0.82487\n",
      "[52]\tvalidation_0-auc:0.82466\n",
      "[53]\tvalidation_0-auc:0.82463\n",
      "[54]\tvalidation_0-auc:0.82472\n",
      "Stopping. Best iteration:\n",
      "[34]\tvalidation_0-auc:0.82536\n",
      "\n",
      "[0]\tvalidation_0-auc:0.81541\n",
      "Will train until validation_0-auc hasn't improved in 20 rounds.\n",
      "[1]\tvalidation_0-auc:0.81453\n",
      "[2]\tvalidation_0-auc:0.81730\n",
      "[3]\tvalidation_0-auc:0.81483\n",
      "[4]\tvalidation_0-auc:0.81791\n",
      "[5]\tvalidation_0-auc:0.81922\n",
      "[6]\tvalidation_0-auc:0.82002\n",
      "[7]\tvalidation_0-auc:0.82037\n",
      "[8]\tvalidation_0-auc:0.82085\n",
      "[9]\tvalidation_0-auc:0.82128\n",
      "[10]\tvalidation_0-auc:0.82196\n",
      "[11]\tvalidation_0-auc:0.82220\n",
      "[12]\tvalidation_0-auc:0.82187\n",
      "[13]\tvalidation_0-auc:0.82178\n",
      "[14]\tvalidation_0-auc:0.82193\n",
      "[15]\tvalidation_0-auc:0.82245\n",
      "[16]\tvalidation_0-auc:0.82293\n",
      "[17]\tvalidation_0-auc:0.82287\n",
      "[18]\tvalidation_0-auc:0.82280\n",
      "[19]\tvalidation_0-auc:0.82301\n",
      "[20]\tvalidation_0-auc:0.82283\n",
      "[21]\tvalidation_0-auc:0.82336\n",
      "[22]\tvalidation_0-auc:0.82392\n",
      "[23]\tvalidation_0-auc:0.82441\n",
      "[24]\tvalidation_0-auc:0.82474\n",
      "[25]\tvalidation_0-auc:0.82489\n",
      "[26]\tvalidation_0-auc:0.82503\n",
      "[27]\tvalidation_0-auc:0.82518\n",
      "[28]\tvalidation_0-auc:0.82491\n",
      "[29]\tvalidation_0-auc:0.82490\n",
      "[30]\tvalidation_0-auc:0.82506\n",
      "[31]\tvalidation_0-auc:0.82502\n",
      "[32]\tvalidation_0-auc:0.82516\n",
      "[33]\tvalidation_0-auc:0.82531\n",
      "[34]\tvalidation_0-auc:0.82536\n",
      "[35]\tvalidation_0-auc:0.82510\n",
      "[36]\tvalidation_0-auc:0.82512\n",
      "[37]\tvalidation_0-auc:0.82517\n",
      "[38]\tvalidation_0-auc:0.82506\n",
      "[39]\tvalidation_0-auc:0.82491\n",
      "[40]\tvalidation_0-auc:0.82506\n",
      "[41]\tvalidation_0-auc:0.82505\n",
      "[42]\tvalidation_0-auc:0.82497\n",
      "[43]\tvalidation_0-auc:0.82508\n",
      "[44]\tvalidation_0-auc:0.82516\n",
      "[45]\tvalidation_0-auc:0.82523\n",
      "[46]\tvalidation_0-auc:0.82523\n",
      "[47]\tvalidation_0-auc:0.82521\n",
      "[48]\tvalidation_0-auc:0.82513\n",
      "[49]\tvalidation_0-auc:0.82503\n",
      "[50]\tvalidation_0-auc:0.82518\n",
      "[51]\tvalidation_0-auc:0.82487\n",
      "[52]\tvalidation_0-auc:0.82466\n",
      "[53]\tvalidation_0-auc:0.82463\n",
      "[54]\tvalidation_0-auc:0.82472\n",
      "Stopping. Best iteration:\n",
      "[34]\tvalidation_0-auc:0.82536\n",
      "\n",
      "[0]\tvalidation_0-auc:0.81541\n",
      "Will train until validation_0-auc hasn't improved in 20 rounds.\n",
      "[1]\tvalidation_0-auc:0.81453\n",
      "[2]\tvalidation_0-auc:0.81730\n",
      "[3]\tvalidation_0-auc:0.81483\n",
      "[4]\tvalidation_0-auc:0.81791\n",
      "[5]\tvalidation_0-auc:0.81922\n",
      "[6]\tvalidation_0-auc:0.82002\n",
      "[7]\tvalidation_0-auc:0.82037\n",
      "[8]\tvalidation_0-auc:0.82085\n",
      "[9]\tvalidation_0-auc:0.82128\n",
      "[10]\tvalidation_0-auc:0.82196\n",
      "[11]\tvalidation_0-auc:0.82220\n",
      "[12]\tvalidation_0-auc:0.82187\n",
      "[13]\tvalidation_0-auc:0.82178\n",
      "[14]\tvalidation_0-auc:0.82193\n",
      "[15]\tvalidation_0-auc:0.82245\n",
      "[16]\tvalidation_0-auc:0.82293\n",
      "[17]\tvalidation_0-auc:0.82287\n",
      "[18]\tvalidation_0-auc:0.82280\n",
      "[19]\tvalidation_0-auc:0.82301\n",
      "[20]\tvalidation_0-auc:0.82283\n",
      "[21]\tvalidation_0-auc:0.82336\n",
      "[22]\tvalidation_0-auc:0.82392\n",
      "[23]\tvalidation_0-auc:0.82441\n",
      "[24]\tvalidation_0-auc:0.82474\n",
      "[25]\tvalidation_0-auc:0.82489\n",
      "[26]\tvalidation_0-auc:0.82503\n",
      "[27]\tvalidation_0-auc:0.82518\n",
      "[28]\tvalidation_0-auc:0.82491\n",
      "[29]\tvalidation_0-auc:0.82490\n",
      "[30]\tvalidation_0-auc:0.82506\n",
      "[31]\tvalidation_0-auc:0.82502\n",
      "[32]\tvalidation_0-auc:0.82516\n",
      "[33]\tvalidation_0-auc:0.82531\n",
      "[34]\tvalidation_0-auc:0.82536\n",
      "[35]\tvalidation_0-auc:0.82510\n",
      "[36]\tvalidation_0-auc:0.82512\n",
      "[37]\tvalidation_0-auc:0.82517\n",
      "[38]\tvalidation_0-auc:0.82506\n",
      "[39]\tvalidation_0-auc:0.82491\n",
      "[40]\tvalidation_0-auc:0.82506\n",
      "[41]\tvalidation_0-auc:0.82505\n",
      "[42]\tvalidation_0-auc:0.82497\n",
      "[43]\tvalidation_0-auc:0.82508\n",
      "[44]\tvalidation_0-auc:0.82516\n",
      "[45]\tvalidation_0-auc:0.82523\n",
      "[46]\tvalidation_0-auc:0.82523\n",
      "[47]\tvalidation_0-auc:0.82521\n",
      "[48]\tvalidation_0-auc:0.82513\n",
      "[49]\tvalidation_0-auc:0.82503\n",
      "[50]\tvalidation_0-auc:0.82518\n",
      "[51]\tvalidation_0-auc:0.82487\n",
      "[52]\tvalidation_0-auc:0.82466\n",
      "[53]\tvalidation_0-auc:0.82463\n",
      "[54]\tvalidation_0-auc:0.82472\n",
      "Stopping. Best iteration:\n",
      "[34]\tvalidation_0-auc:0.82536\n",
      "\n",
      "[0]\tvalidation_0-auc:0.81545\n",
      "Will train until validation_0-auc hasn't improved in 20 rounds.\n",
      "[1]\tvalidation_0-auc:0.81447\n",
      "[2]\tvalidation_0-auc:0.81729\n",
      "[3]\tvalidation_0-auc:0.81487\n",
      "[4]\tvalidation_0-auc:0.81798\n",
      "[5]\tvalidation_0-auc:0.81925\n",
      "[6]\tvalidation_0-auc:0.82008\n",
      "[7]\tvalidation_0-auc:0.82036\n",
      "[8]\tvalidation_0-auc:0.82074\n",
      "[9]\tvalidation_0-auc:0.82106\n",
      "[10]\tvalidation_0-auc:0.82173\n",
      "[11]\tvalidation_0-auc:0.82201\n",
      "[12]\tvalidation_0-auc:0.82177\n",
      "[13]\tvalidation_0-auc:0.82169\n",
      "[14]\tvalidation_0-auc:0.82172\n",
      "[15]\tvalidation_0-auc:0.82224\n",
      "[16]\tvalidation_0-auc:0.82272\n",
      "[17]\tvalidation_0-auc:0.82259\n",
      "[18]\tvalidation_0-auc:0.82256\n",
      "[19]\tvalidation_0-auc:0.82285\n",
      "[20]\tvalidation_0-auc:0.82266\n",
      "[21]\tvalidation_0-auc:0.82320\n",
      "[22]\tvalidation_0-auc:0.82381\n",
      "[23]\tvalidation_0-auc:0.82427\n",
      "[24]\tvalidation_0-auc:0.82458\n",
      "[25]\tvalidation_0-auc:0.82471\n",
      "[26]\tvalidation_0-auc:0.82489\n",
      "[27]\tvalidation_0-auc:0.82502\n",
      "[28]\tvalidation_0-auc:0.82494\n",
      "[29]\tvalidation_0-auc:0.82492\n",
      "[30]\tvalidation_0-auc:0.82509\n",
      "[31]\tvalidation_0-auc:0.82515\n",
      "[32]\tvalidation_0-auc:0.82514\n",
      "[33]\tvalidation_0-auc:0.82526\n",
      "[34]\tvalidation_0-auc:0.82538\n",
      "[35]\tvalidation_0-auc:0.82507\n",
      "[36]\tvalidation_0-auc:0.82519\n",
      "[37]\tvalidation_0-auc:0.82534\n",
      "[38]\tvalidation_0-auc:0.82555\n",
      "[39]\tvalidation_0-auc:0.82571\n",
      "[40]\tvalidation_0-auc:0.82574\n",
      "[41]\tvalidation_0-auc:0.82569\n",
      "[42]\tvalidation_0-auc:0.82576\n",
      "[43]\tvalidation_0-auc:0.82611\n",
      "[44]\tvalidation_0-auc:0.82611\n",
      "[45]\tvalidation_0-auc:0.82622\n",
      "[46]\tvalidation_0-auc:0.82598\n",
      "[47]\tvalidation_0-auc:0.82602\n",
      "[48]\tvalidation_0-auc:0.82581\n",
      "[49]\tvalidation_0-auc:0.82550\n",
      "[50]\tvalidation_0-auc:0.82564\n",
      "[51]\tvalidation_0-auc:0.82551\n",
      "[52]\tvalidation_0-auc:0.82539\n",
      "[53]\tvalidation_0-auc:0.82526\n",
      "[54]\tvalidation_0-auc:0.82531\n",
      "[55]\tvalidation_0-auc:0.82498\n",
      "[56]\tvalidation_0-auc:0.82488\n",
      "[57]\tvalidation_0-auc:0.82461\n",
      "[58]\tvalidation_0-auc:0.82467\n",
      "[59]\tvalidation_0-auc:0.82444\n",
      "[60]\tvalidation_0-auc:0.82455\n",
      "[61]\tvalidation_0-auc:0.82425\n",
      "[62]\tvalidation_0-auc:0.82437\n",
      "[63]\tvalidation_0-auc:0.82396\n",
      "[64]\tvalidation_0-auc:0.82410\n",
      "[65]\tvalidation_0-auc:0.82408\n",
      "Stopping. Best iteration:\n",
      "[45]\tvalidation_0-auc:0.82622\n",
      "\n",
      "[0]\tvalidation_0-auc:0.81545\n",
      "Will train until validation_0-auc hasn't improved in 20 rounds.\n",
      "[1]\tvalidation_0-auc:0.81447\n",
      "[2]\tvalidation_0-auc:0.81729\n",
      "[3]\tvalidation_0-auc:0.81487\n",
      "[4]\tvalidation_0-auc:0.81798\n",
      "[5]\tvalidation_0-auc:0.81925\n",
      "[6]\tvalidation_0-auc:0.82008\n",
      "[7]\tvalidation_0-auc:0.82036\n",
      "[8]\tvalidation_0-auc:0.82074\n",
      "[9]\tvalidation_0-auc:0.82106\n",
      "[10]\tvalidation_0-auc:0.82173\n",
      "[11]\tvalidation_0-auc:0.82201\n",
      "[12]\tvalidation_0-auc:0.82177\n",
      "[13]\tvalidation_0-auc:0.82169\n",
      "[14]\tvalidation_0-auc:0.82172\n",
      "[15]\tvalidation_0-auc:0.82224\n",
      "[16]\tvalidation_0-auc:0.82272\n",
      "[17]\tvalidation_0-auc:0.82259\n",
      "[18]\tvalidation_0-auc:0.82256\n",
      "[19]\tvalidation_0-auc:0.82285\n",
      "[20]\tvalidation_0-auc:0.82266\n",
      "[21]\tvalidation_0-auc:0.82320\n",
      "[22]\tvalidation_0-auc:0.82381\n",
      "[23]\tvalidation_0-auc:0.82427\n",
      "[24]\tvalidation_0-auc:0.82458\n",
      "[25]\tvalidation_0-auc:0.82471\n",
      "[26]\tvalidation_0-auc:0.82489\n",
      "[27]\tvalidation_0-auc:0.82502\n",
      "[28]\tvalidation_0-auc:0.82494\n",
      "[29]\tvalidation_0-auc:0.82492\n",
      "[30]\tvalidation_0-auc:0.82509\n",
      "[31]\tvalidation_0-auc:0.82515\n",
      "[32]\tvalidation_0-auc:0.82514\n",
      "[33]\tvalidation_0-auc:0.82526\n",
      "[34]\tvalidation_0-auc:0.82538\n",
      "[35]\tvalidation_0-auc:0.82507\n",
      "[36]\tvalidation_0-auc:0.82519\n",
      "[37]\tvalidation_0-auc:0.82534\n",
      "[38]\tvalidation_0-auc:0.82555\n",
      "[39]\tvalidation_0-auc:0.82571\n",
      "[40]\tvalidation_0-auc:0.82574\n",
      "[41]\tvalidation_0-auc:0.82569\n",
      "[42]\tvalidation_0-auc:0.82576\n",
      "[43]\tvalidation_0-auc:0.82611\n",
      "[44]\tvalidation_0-auc:0.82611\n",
      "[45]\tvalidation_0-auc:0.82622\n",
      "[46]\tvalidation_0-auc:0.82598\n",
      "[47]\tvalidation_0-auc:0.82602\n",
      "[48]\tvalidation_0-auc:0.82581\n",
      "[49]\tvalidation_0-auc:0.82550\n",
      "[50]\tvalidation_0-auc:0.82564\n",
      "[51]\tvalidation_0-auc:0.82551\n",
      "[52]\tvalidation_0-auc:0.82539\n",
      "[53]\tvalidation_0-auc:0.82526\n",
      "[54]\tvalidation_0-auc:0.82531\n",
      "[55]\tvalidation_0-auc:0.82498\n",
      "[56]\tvalidation_0-auc:0.82488\n",
      "[57]\tvalidation_0-auc:0.82461\n",
      "[58]\tvalidation_0-auc:0.82467\n",
      "[59]\tvalidation_0-auc:0.82444\n",
      "[60]\tvalidation_0-auc:0.82455\n",
      "[61]\tvalidation_0-auc:0.82425\n",
      "[62]\tvalidation_0-auc:0.82437\n",
      "[63]\tvalidation_0-auc:0.82396\n",
      "[64]\tvalidation_0-auc:0.82410\n",
      "[65]\tvalidation_0-auc:0.82408\n",
      "Stopping. Best iteration:\n",
      "[45]\tvalidation_0-auc:0.82622\n",
      "\n",
      "[0]\tvalidation_0-auc:0.81545\n",
      "Will train until validation_0-auc hasn't improved in 20 rounds.\n",
      "[1]\tvalidation_0-auc:0.81447\n",
      "[2]\tvalidation_0-auc:0.81729\n",
      "[3]\tvalidation_0-auc:0.81487\n",
      "[4]\tvalidation_0-auc:0.81798\n",
      "[5]\tvalidation_0-auc:0.81925\n",
      "[6]\tvalidation_0-auc:0.82008\n",
      "[7]\tvalidation_0-auc:0.82036\n",
      "[8]\tvalidation_0-auc:0.82074\n",
      "[9]\tvalidation_0-auc:0.82106\n",
      "[10]\tvalidation_0-auc:0.82173\n",
      "[11]\tvalidation_0-auc:0.82201\n",
      "[12]\tvalidation_0-auc:0.82177\n",
      "[13]\tvalidation_0-auc:0.82169\n",
      "[14]\tvalidation_0-auc:0.82172\n",
      "[15]\tvalidation_0-auc:0.82224\n",
      "[16]\tvalidation_0-auc:0.82272\n",
      "[17]\tvalidation_0-auc:0.82259\n",
      "[18]\tvalidation_0-auc:0.82256\n",
      "[19]\tvalidation_0-auc:0.82285\n",
      "[20]\tvalidation_0-auc:0.82266\n",
      "[21]\tvalidation_0-auc:0.82320\n",
      "[22]\tvalidation_0-auc:0.82381\n",
      "[23]\tvalidation_0-auc:0.82427\n",
      "[24]\tvalidation_0-auc:0.82458\n",
      "[25]\tvalidation_0-auc:0.82471\n",
      "[26]\tvalidation_0-auc:0.82489\n",
      "[27]\tvalidation_0-auc:0.82502\n",
      "[28]\tvalidation_0-auc:0.82494\n",
      "[29]\tvalidation_0-auc:0.82492\n",
      "[30]\tvalidation_0-auc:0.82509\n",
      "[31]\tvalidation_0-auc:0.82515\n",
      "[32]\tvalidation_0-auc:0.82514\n",
      "[33]\tvalidation_0-auc:0.82526\n",
      "[34]\tvalidation_0-auc:0.82538\n",
      "[35]\tvalidation_0-auc:0.82507\n",
      "[36]\tvalidation_0-auc:0.82519\n",
      "[37]\tvalidation_0-auc:0.82534\n",
      "[38]\tvalidation_0-auc:0.82555\n",
      "[39]\tvalidation_0-auc:0.82571\n",
      "[40]\tvalidation_0-auc:0.82574\n",
      "[41]\tvalidation_0-auc:0.82569\n",
      "[42]\tvalidation_0-auc:0.82576\n",
      "[43]\tvalidation_0-auc:0.82611\n",
      "[44]\tvalidation_0-auc:0.82611\n",
      "[45]\tvalidation_0-auc:0.82622\n",
      "[46]\tvalidation_0-auc:0.82598\n",
      "[47]\tvalidation_0-auc:0.82602\n",
      "[48]\tvalidation_0-auc:0.82581\n",
      "[49]\tvalidation_0-auc:0.82550\n",
      "[50]\tvalidation_0-auc:0.82564\n",
      "[51]\tvalidation_0-auc:0.82551\n",
      "[52]\tvalidation_0-auc:0.82539\n",
      "[53]\tvalidation_0-auc:0.82526\n",
      "[54]\tvalidation_0-auc:0.82531\n",
      "[55]\tvalidation_0-auc:0.82498\n",
      "[56]\tvalidation_0-auc:0.82488\n",
      "[57]\tvalidation_0-auc:0.82461\n",
      "[58]\tvalidation_0-auc:0.82467\n",
      "[59]\tvalidation_0-auc:0.82444\n",
      "[60]\tvalidation_0-auc:0.82455\n",
      "[61]\tvalidation_0-auc:0.82425\n",
      "[62]\tvalidation_0-auc:0.82437\n",
      "[63]\tvalidation_0-auc:0.82396\n",
      "[64]\tvalidation_0-auc:0.82410\n",
      "[65]\tvalidation_0-auc:0.82408\n",
      "Stopping. Best iteration:\n",
      "[45]\tvalidation_0-auc:0.82622\n",
      "\n",
      "[0]\tvalidation_0-auc:0.80332\n",
      "Will train until validation_0-auc hasn't improved in 20 rounds.\n",
      "[1]\tvalidation_0-auc:0.80397\n",
      "[2]\tvalidation_0-auc:0.81265\n",
      "[3]\tvalidation_0-auc:0.81575\n",
      "[4]\tvalidation_0-auc:0.81683\n",
      "[5]\tvalidation_0-auc:0.81797\n",
      "[6]\tvalidation_0-auc:0.81836\n",
      "[7]\tvalidation_0-auc:0.81898\n",
      "[8]\tvalidation_0-auc:0.81995\n",
      "[9]\tvalidation_0-auc:0.82023\n",
      "[10]\tvalidation_0-auc:0.82138\n",
      "[11]\tvalidation_0-auc:0.82127\n",
      "[12]\tvalidation_0-auc:0.82103\n",
      "[13]\tvalidation_0-auc:0.82120\n",
      "[14]\tvalidation_0-auc:0.82105\n",
      "[15]\tvalidation_0-auc:0.82204\n",
      "[16]\tvalidation_0-auc:0.82200\n",
      "[17]\tvalidation_0-auc:0.82186\n",
      "[18]\tvalidation_0-auc:0.82194\n",
      "[19]\tvalidation_0-auc:0.82205\n",
      "[20]\tvalidation_0-auc:0.82221\n",
      "[21]\tvalidation_0-auc:0.82273\n",
      "[22]\tvalidation_0-auc:0.82311\n",
      "[23]\tvalidation_0-auc:0.82396\n",
      "[24]\tvalidation_0-auc:0.82434\n",
      "[25]\tvalidation_0-auc:0.82466\n",
      "[26]\tvalidation_0-auc:0.82473\n",
      "[27]\tvalidation_0-auc:0.82480\n",
      "[28]\tvalidation_0-auc:0.82494\n",
      "[29]\tvalidation_0-auc:0.82500\n",
      "[30]\tvalidation_0-auc:0.82497\n",
      "[31]\tvalidation_0-auc:0.82515\n",
      "[32]\tvalidation_0-auc:0.82515\n",
      "[33]\tvalidation_0-auc:0.82534\n",
      "[34]\tvalidation_0-auc:0.82524\n",
      "[35]\tvalidation_0-auc:0.82526\n",
      "[36]\tvalidation_0-auc:0.82519\n",
      "[37]\tvalidation_0-auc:0.82513\n",
      "[38]\tvalidation_0-auc:0.82533\n",
      "[39]\tvalidation_0-auc:0.82535\n",
      "[40]\tvalidation_0-auc:0.82540\n",
      "[41]\tvalidation_0-auc:0.82541\n",
      "[42]\tvalidation_0-auc:0.82525\n",
      "[43]\tvalidation_0-auc:0.82531\n",
      "[44]\tvalidation_0-auc:0.82543\n",
      "[45]\tvalidation_0-auc:0.82538\n",
      "[46]\tvalidation_0-auc:0.82537\n",
      "[47]\tvalidation_0-auc:0.82536\n",
      "[48]\tvalidation_0-auc:0.82507\n",
      "[49]\tvalidation_0-auc:0.82491\n",
      "[50]\tvalidation_0-auc:0.82497\n",
      "[51]\tvalidation_0-auc:0.82500\n",
      "[52]\tvalidation_0-auc:0.82472\n",
      "[53]\tvalidation_0-auc:0.82463\n",
      "[54]\tvalidation_0-auc:0.82453\n",
      "[55]\tvalidation_0-auc:0.82429\n",
      "[56]\tvalidation_0-auc:0.82420\n",
      "[57]\tvalidation_0-auc:0.82406\n",
      "[58]\tvalidation_0-auc:0.82402\n",
      "[59]\tvalidation_0-auc:0.82389\n",
      "[60]\tvalidation_0-auc:0.82397\n",
      "[61]\tvalidation_0-auc:0.82377\n",
      "[62]\tvalidation_0-auc:0.82367\n",
      "[63]\tvalidation_0-auc:0.82363\n",
      "[64]\tvalidation_0-auc:0.82374\n",
      "Stopping. Best iteration:\n",
      "[44]\tvalidation_0-auc:0.82543\n",
      "\n",
      "[0]\tvalidation_0-auc:0.80332\n",
      "Will train until validation_0-auc hasn't improved in 20 rounds.\n",
      "[1]\tvalidation_0-auc:0.80397\n",
      "[2]\tvalidation_0-auc:0.81265\n",
      "[3]\tvalidation_0-auc:0.81575\n",
      "[4]\tvalidation_0-auc:0.81683\n",
      "[5]\tvalidation_0-auc:0.81797\n",
      "[6]\tvalidation_0-auc:0.81836\n",
      "[7]\tvalidation_0-auc:0.81898\n",
      "[8]\tvalidation_0-auc:0.81995\n",
      "[9]\tvalidation_0-auc:0.82023\n",
      "[10]\tvalidation_0-auc:0.82138\n",
      "[11]\tvalidation_0-auc:0.82127\n",
      "[12]\tvalidation_0-auc:0.82103\n",
      "[13]\tvalidation_0-auc:0.82120\n",
      "[14]\tvalidation_0-auc:0.82105\n",
      "[15]\tvalidation_0-auc:0.82204\n",
      "[16]\tvalidation_0-auc:0.82200\n",
      "[17]\tvalidation_0-auc:0.82186\n",
      "[18]\tvalidation_0-auc:0.82194\n",
      "[19]\tvalidation_0-auc:0.82205\n",
      "[20]\tvalidation_0-auc:0.82221\n",
      "[21]\tvalidation_0-auc:0.82273\n",
      "[22]\tvalidation_0-auc:0.82311\n",
      "[23]\tvalidation_0-auc:0.82396\n",
      "[24]\tvalidation_0-auc:0.82434\n",
      "[25]\tvalidation_0-auc:0.82466\n",
      "[26]\tvalidation_0-auc:0.82473\n",
      "[27]\tvalidation_0-auc:0.82480\n",
      "[28]\tvalidation_0-auc:0.82494\n",
      "[29]\tvalidation_0-auc:0.82500\n",
      "[30]\tvalidation_0-auc:0.82497\n",
      "[31]\tvalidation_0-auc:0.82515\n",
      "[32]\tvalidation_0-auc:0.82515\n",
      "[33]\tvalidation_0-auc:0.82534\n",
      "[34]\tvalidation_0-auc:0.82524\n",
      "[35]\tvalidation_0-auc:0.82526\n",
      "[36]\tvalidation_0-auc:0.82519\n",
      "[37]\tvalidation_0-auc:0.82513\n",
      "[38]\tvalidation_0-auc:0.82533\n",
      "[39]\tvalidation_0-auc:0.82535\n",
      "[40]\tvalidation_0-auc:0.82540\n",
      "[41]\tvalidation_0-auc:0.82541\n",
      "[42]\tvalidation_0-auc:0.82525\n",
      "[43]\tvalidation_0-auc:0.82531\n",
      "[44]\tvalidation_0-auc:0.82543\n",
      "[45]\tvalidation_0-auc:0.82538\n",
      "[46]\tvalidation_0-auc:0.82537\n",
      "[47]\tvalidation_0-auc:0.82536\n",
      "[48]\tvalidation_0-auc:0.82507\n",
      "[49]\tvalidation_0-auc:0.82491\n",
      "[50]\tvalidation_0-auc:0.82497\n",
      "[51]\tvalidation_0-auc:0.82500\n",
      "[52]\tvalidation_0-auc:0.82472\n",
      "[53]\tvalidation_0-auc:0.82463\n",
      "[54]\tvalidation_0-auc:0.82453\n",
      "[55]\tvalidation_0-auc:0.82429\n",
      "[56]\tvalidation_0-auc:0.82420\n",
      "[57]\tvalidation_0-auc:0.82406\n",
      "[58]\tvalidation_0-auc:0.82402\n",
      "[59]\tvalidation_0-auc:0.82389\n",
      "[60]\tvalidation_0-auc:0.82397\n",
      "[61]\tvalidation_0-auc:0.82377\n",
      "[62]\tvalidation_0-auc:0.82367\n",
      "[63]\tvalidation_0-auc:0.82363\n",
      "[64]\tvalidation_0-auc:0.82374\n",
      "Stopping. Best iteration:\n",
      "[44]\tvalidation_0-auc:0.82543\n",
      "\n",
      "[0]\tvalidation_0-auc:0.80332\n",
      "Will train until validation_0-auc hasn't improved in 20 rounds.\n",
      "[1]\tvalidation_0-auc:0.80397\n",
      "[2]\tvalidation_0-auc:0.81265\n",
      "[3]\tvalidation_0-auc:0.81575\n",
      "[4]\tvalidation_0-auc:0.81683\n",
      "[5]\tvalidation_0-auc:0.81797\n",
      "[6]\tvalidation_0-auc:0.81836\n",
      "[7]\tvalidation_0-auc:0.81898\n",
      "[8]\tvalidation_0-auc:0.81995\n",
      "[9]\tvalidation_0-auc:0.82023\n",
      "[10]\tvalidation_0-auc:0.82138\n",
      "[11]\tvalidation_0-auc:0.82127\n",
      "[12]\tvalidation_0-auc:0.82103\n",
      "[13]\tvalidation_0-auc:0.82120\n",
      "[14]\tvalidation_0-auc:0.82105\n",
      "[15]\tvalidation_0-auc:0.82204\n",
      "[16]\tvalidation_0-auc:0.82200\n",
      "[17]\tvalidation_0-auc:0.82186\n",
      "[18]\tvalidation_0-auc:0.82194\n",
      "[19]\tvalidation_0-auc:0.82205\n",
      "[20]\tvalidation_0-auc:0.82221\n",
      "[21]\tvalidation_0-auc:0.82273\n",
      "[22]\tvalidation_0-auc:0.82311\n",
      "[23]\tvalidation_0-auc:0.82396\n",
      "[24]\tvalidation_0-auc:0.82434\n",
      "[25]\tvalidation_0-auc:0.82466\n",
      "[26]\tvalidation_0-auc:0.82473\n",
      "[27]\tvalidation_0-auc:0.82480\n",
      "[28]\tvalidation_0-auc:0.82494\n",
      "[29]\tvalidation_0-auc:0.82500\n",
      "[30]\tvalidation_0-auc:0.82497\n",
      "[31]\tvalidation_0-auc:0.82515\n",
      "[32]\tvalidation_0-auc:0.82515\n",
      "[33]\tvalidation_0-auc:0.82534\n",
      "[34]\tvalidation_0-auc:0.82524\n",
      "[35]\tvalidation_0-auc:0.82526\n",
      "[36]\tvalidation_0-auc:0.82519\n",
      "[37]\tvalidation_0-auc:0.82513\n",
      "[38]\tvalidation_0-auc:0.82533\n",
      "[39]\tvalidation_0-auc:0.82535\n",
      "[40]\tvalidation_0-auc:0.82540\n",
      "[41]\tvalidation_0-auc:0.82541\n",
      "[42]\tvalidation_0-auc:0.82525\n",
      "[43]\tvalidation_0-auc:0.82531\n",
      "[44]\tvalidation_0-auc:0.82543\n",
      "[45]\tvalidation_0-auc:0.82538\n",
      "[46]\tvalidation_0-auc:0.82537\n",
      "[47]\tvalidation_0-auc:0.82536\n",
      "[48]\tvalidation_0-auc:0.82507\n",
      "[49]\tvalidation_0-auc:0.82491\n",
      "[50]\tvalidation_0-auc:0.82497\n",
      "[51]\tvalidation_0-auc:0.82500\n",
      "[52]\tvalidation_0-auc:0.82472\n",
      "[53]\tvalidation_0-auc:0.82463\n",
      "[54]\tvalidation_0-auc:0.82453\n",
      "[55]\tvalidation_0-auc:0.82429\n",
      "[56]\tvalidation_0-auc:0.82420\n",
      "[57]\tvalidation_0-auc:0.82406\n",
      "[58]\tvalidation_0-auc:0.82402\n",
      "[59]\tvalidation_0-auc:0.82389\n",
      "[60]\tvalidation_0-auc:0.82397\n",
      "[61]\tvalidation_0-auc:0.82377\n",
      "[62]\tvalidation_0-auc:0.82367\n",
      "[63]\tvalidation_0-auc:0.82363\n",
      "[64]\tvalidation_0-auc:0.82374\n",
      "Stopping. Best iteration:\n",
      "[44]\tvalidation_0-auc:0.82543\n",
      "\n",
      "[0]\tvalidation_0-auc:0.80285\n",
      "Will train until validation_0-auc hasn't improved in 20 rounds.\n",
      "[1]\tvalidation_0-auc:0.80350\n",
      "[2]\tvalidation_0-auc:0.81241\n",
      "[3]\tvalidation_0-auc:0.81544\n",
      "[4]\tvalidation_0-auc:0.81697\n",
      "[5]\tvalidation_0-auc:0.81808\n",
      "[6]\tvalidation_0-auc:0.81846\n",
      "[7]\tvalidation_0-auc:0.81908\n",
      "[8]\tvalidation_0-auc:0.82008\n",
      "[9]\tvalidation_0-auc:0.82045\n",
      "[10]\tvalidation_0-auc:0.82159\n",
      "[11]\tvalidation_0-auc:0.82149\n",
      "[12]\tvalidation_0-auc:0.82120\n",
      "[13]\tvalidation_0-auc:0.82135\n",
      "[14]\tvalidation_0-auc:0.82126\n",
      "[15]\tvalidation_0-auc:0.82238\n",
      "[16]\tvalidation_0-auc:0.82212\n",
      "[17]\tvalidation_0-auc:0.82199\n",
      "[18]\tvalidation_0-auc:0.82231\n",
      "[19]\tvalidation_0-auc:0.82243\n",
      "[20]\tvalidation_0-auc:0.82249\n",
      "[21]\tvalidation_0-auc:0.82299\n",
      "[22]\tvalidation_0-auc:0.82337\n",
      "[23]\tvalidation_0-auc:0.82419\n",
      "[24]\tvalidation_0-auc:0.82469\n",
      "[25]\tvalidation_0-auc:0.82495\n",
      "[26]\tvalidation_0-auc:0.82509\n",
      "[27]\tvalidation_0-auc:0.82521\n",
      "[28]\tvalidation_0-auc:0.82526\n",
      "[29]\tvalidation_0-auc:0.82525\n",
      "[30]\tvalidation_0-auc:0.82521\n",
      "[31]\tvalidation_0-auc:0.82539\n",
      "[32]\tvalidation_0-auc:0.82540\n",
      "[33]\tvalidation_0-auc:0.82559\n",
      "[34]\tvalidation_0-auc:0.82547\n",
      "[35]\tvalidation_0-auc:0.82547\n",
      "[36]\tvalidation_0-auc:0.82536\n",
      "[37]\tvalidation_0-auc:0.82530\n",
      "[38]\tvalidation_0-auc:0.82553\n",
      "[39]\tvalidation_0-auc:0.82553\n",
      "[40]\tvalidation_0-auc:0.82561\n",
      "[41]\tvalidation_0-auc:0.82559\n",
      "[42]\tvalidation_0-auc:0.82544\n",
      "[43]\tvalidation_0-auc:0.82553\n",
      "[44]\tvalidation_0-auc:0.82563\n",
      "[45]\tvalidation_0-auc:0.82554\n",
      "[46]\tvalidation_0-auc:0.82548\n",
      "[47]\tvalidation_0-auc:0.82554\n",
      "[48]\tvalidation_0-auc:0.82524\n",
      "[49]\tvalidation_0-auc:0.82501\n",
      "[50]\tvalidation_0-auc:0.82510\n",
      "[51]\tvalidation_0-auc:0.82512\n",
      "[52]\tvalidation_0-auc:0.82489\n",
      "[53]\tvalidation_0-auc:0.82480\n",
      "[54]\tvalidation_0-auc:0.82469\n",
      "[55]\tvalidation_0-auc:0.82455\n",
      "[56]\tvalidation_0-auc:0.82442\n",
      "[57]\tvalidation_0-auc:0.82425\n",
      "[58]\tvalidation_0-auc:0.82425\n",
      "[59]\tvalidation_0-auc:0.82409\n",
      "[60]\tvalidation_0-auc:0.82416\n",
      "[61]\tvalidation_0-auc:0.82400\n",
      "[62]\tvalidation_0-auc:0.82386\n",
      "[63]\tvalidation_0-auc:0.82384\n",
      "[64]\tvalidation_0-auc:0.82388\n",
      "Stopping. Best iteration:\n",
      "[44]\tvalidation_0-auc:0.82563\n",
      "\n",
      "[0]\tvalidation_0-auc:0.80285\n",
      "Will train until validation_0-auc hasn't improved in 20 rounds.\n",
      "[1]\tvalidation_0-auc:0.80350\n",
      "[2]\tvalidation_0-auc:0.81241\n",
      "[3]\tvalidation_0-auc:0.81544\n",
      "[4]\tvalidation_0-auc:0.81697\n",
      "[5]\tvalidation_0-auc:0.81808\n",
      "[6]\tvalidation_0-auc:0.81846\n",
      "[7]\tvalidation_0-auc:0.81908\n",
      "[8]\tvalidation_0-auc:0.82008\n",
      "[9]\tvalidation_0-auc:0.82045\n",
      "[10]\tvalidation_0-auc:0.82159\n",
      "[11]\tvalidation_0-auc:0.82149\n",
      "[12]\tvalidation_0-auc:0.82120\n",
      "[13]\tvalidation_0-auc:0.82135\n",
      "[14]\tvalidation_0-auc:0.82126\n",
      "[15]\tvalidation_0-auc:0.82238\n",
      "[16]\tvalidation_0-auc:0.82212\n",
      "[17]\tvalidation_0-auc:0.82199\n",
      "[18]\tvalidation_0-auc:0.82231\n",
      "[19]\tvalidation_0-auc:0.82243\n",
      "[20]\tvalidation_0-auc:0.82249\n",
      "[21]\tvalidation_0-auc:0.82299\n",
      "[22]\tvalidation_0-auc:0.82337\n",
      "[23]\tvalidation_0-auc:0.82419\n",
      "[24]\tvalidation_0-auc:0.82469\n",
      "[25]\tvalidation_0-auc:0.82495\n",
      "[26]\tvalidation_0-auc:0.82509\n",
      "[27]\tvalidation_0-auc:0.82521\n",
      "[28]\tvalidation_0-auc:0.82526\n",
      "[29]\tvalidation_0-auc:0.82525\n",
      "[30]\tvalidation_0-auc:0.82521\n",
      "[31]\tvalidation_0-auc:0.82539\n",
      "[32]\tvalidation_0-auc:0.82540\n",
      "[33]\tvalidation_0-auc:0.82559\n",
      "[34]\tvalidation_0-auc:0.82547\n",
      "[35]\tvalidation_0-auc:0.82547\n",
      "[36]\tvalidation_0-auc:0.82536\n",
      "[37]\tvalidation_0-auc:0.82530\n",
      "[38]\tvalidation_0-auc:0.82553\n",
      "[39]\tvalidation_0-auc:0.82553\n",
      "[40]\tvalidation_0-auc:0.82561\n",
      "[41]\tvalidation_0-auc:0.82559\n",
      "[42]\tvalidation_0-auc:0.82544\n",
      "[43]\tvalidation_0-auc:0.82553\n",
      "[44]\tvalidation_0-auc:0.82563\n",
      "[45]\tvalidation_0-auc:0.82554\n",
      "[46]\tvalidation_0-auc:0.82548\n",
      "[47]\tvalidation_0-auc:0.82554\n",
      "[48]\tvalidation_0-auc:0.82524\n",
      "[49]\tvalidation_0-auc:0.82501\n",
      "[50]\tvalidation_0-auc:0.82510\n",
      "[51]\tvalidation_0-auc:0.82512\n",
      "[52]\tvalidation_0-auc:0.82489\n",
      "[53]\tvalidation_0-auc:0.82480\n",
      "[54]\tvalidation_0-auc:0.82469\n",
      "[55]\tvalidation_0-auc:0.82455\n",
      "[56]\tvalidation_0-auc:0.82442\n",
      "[57]\tvalidation_0-auc:0.82425\n",
      "[58]\tvalidation_0-auc:0.82425\n",
      "[59]\tvalidation_0-auc:0.82409\n",
      "[60]\tvalidation_0-auc:0.82416\n",
      "[61]\tvalidation_0-auc:0.82400\n",
      "[62]\tvalidation_0-auc:0.82386\n",
      "[63]\tvalidation_0-auc:0.82384\n",
      "[64]\tvalidation_0-auc:0.82388\n",
      "Stopping. Best iteration:\n",
      "[44]\tvalidation_0-auc:0.82563\n",
      "\n",
      "[0]\tvalidation_0-auc:0.80285\n",
      "Will train until validation_0-auc hasn't improved in 20 rounds.\n",
      "[1]\tvalidation_0-auc:0.80350\n",
      "[2]\tvalidation_0-auc:0.81241\n",
      "[3]\tvalidation_0-auc:0.81544\n",
      "[4]\tvalidation_0-auc:0.81697\n",
      "[5]\tvalidation_0-auc:0.81808\n",
      "[6]\tvalidation_0-auc:0.81846\n",
      "[7]\tvalidation_0-auc:0.81908\n",
      "[8]\tvalidation_0-auc:0.82008\n",
      "[9]\tvalidation_0-auc:0.82045\n",
      "[10]\tvalidation_0-auc:0.82159\n",
      "[11]\tvalidation_0-auc:0.82149\n",
      "[12]\tvalidation_0-auc:0.82120\n",
      "[13]\tvalidation_0-auc:0.82135\n",
      "[14]\tvalidation_0-auc:0.82126\n",
      "[15]\tvalidation_0-auc:0.82238\n",
      "[16]\tvalidation_0-auc:0.82212\n",
      "[17]\tvalidation_0-auc:0.82199\n",
      "[18]\tvalidation_0-auc:0.82231\n",
      "[19]\tvalidation_0-auc:0.82243\n",
      "[20]\tvalidation_0-auc:0.82249\n",
      "[21]\tvalidation_0-auc:0.82299\n",
      "[22]\tvalidation_0-auc:0.82337\n",
      "[23]\tvalidation_0-auc:0.82419\n",
      "[24]\tvalidation_0-auc:0.82469\n",
      "[25]\tvalidation_0-auc:0.82495\n",
      "[26]\tvalidation_0-auc:0.82509\n",
      "[27]\tvalidation_0-auc:0.82521\n",
      "[28]\tvalidation_0-auc:0.82526\n",
      "[29]\tvalidation_0-auc:0.82525\n",
      "[30]\tvalidation_0-auc:0.82521\n",
      "[31]\tvalidation_0-auc:0.82539\n",
      "[32]\tvalidation_0-auc:0.82540\n",
      "[33]\tvalidation_0-auc:0.82559\n",
      "[34]\tvalidation_0-auc:0.82547\n",
      "[35]\tvalidation_0-auc:0.82547\n",
      "[36]\tvalidation_0-auc:0.82536\n",
      "[37]\tvalidation_0-auc:0.82530\n",
      "[38]\tvalidation_0-auc:0.82553\n",
      "[39]\tvalidation_0-auc:0.82553\n",
      "[40]\tvalidation_0-auc:0.82561\n",
      "[41]\tvalidation_0-auc:0.82559\n",
      "[42]\tvalidation_0-auc:0.82544\n",
      "[43]\tvalidation_0-auc:0.82553\n",
      "[44]\tvalidation_0-auc:0.82563\n",
      "[45]\tvalidation_0-auc:0.82554\n",
      "[46]\tvalidation_0-auc:0.82548\n",
      "[47]\tvalidation_0-auc:0.82554\n",
      "[48]\tvalidation_0-auc:0.82524\n",
      "[49]\tvalidation_0-auc:0.82501\n",
      "[50]\tvalidation_0-auc:0.82510\n",
      "[51]\tvalidation_0-auc:0.82512\n",
      "[52]\tvalidation_0-auc:0.82489\n",
      "[53]\tvalidation_0-auc:0.82480\n",
      "[54]\tvalidation_0-auc:0.82469\n",
      "[55]\tvalidation_0-auc:0.82455\n",
      "[56]\tvalidation_0-auc:0.82442\n",
      "[57]\tvalidation_0-auc:0.82425\n",
      "[58]\tvalidation_0-auc:0.82425\n",
      "[59]\tvalidation_0-auc:0.82409\n",
      "[60]\tvalidation_0-auc:0.82416\n",
      "[61]\tvalidation_0-auc:0.82400\n",
      "[62]\tvalidation_0-auc:0.82386\n",
      "[63]\tvalidation_0-auc:0.82384\n",
      "[64]\tvalidation_0-auc:0.82388\n",
      "Stopping. Best iteration:\n",
      "[44]\tvalidation_0-auc:0.82563\n",
      "\n"
     ]
    }
   ],
   "source": [
    "best_score=0\n",
    "for g in ParameterGrid(param_grid):\n",
    "    xgb_clf.set_params(**g)\n",
    "    xgb_clf.fit(train_res_X,train_res_y,early_stopping_rounds=20,eval_metric=\"auc\",eval_set=[(val_sca_X, val_y)])\n",
    "    pred_y = xgb_clf.predict_proba(val_sca_X)[:,1]\n",
    "    score=roc_auc_score(val_y,pred_y)\n",
    "    if score > best_score:\n",
    "        best_score = roc_auc_score(val_y,pred_y)\n",
    "        best_grid = g"
   ]
  },
  {
   "cell_type": "code",
   "execution_count": 51,
   "metadata": {
    "execution": {
     "iopub.execute_input": "2020-10-15T15:53:56.377609Z",
     "iopub.status.busy": "2020-10-15T15:53:56.376532Z",
     "iopub.status.idle": "2020-10-15T15:53:56.382120Z",
     "shell.execute_reply": "2020-10-15T15:53:56.381450Z"
    },
    "papermill": {
     "duration": 0.423223,
     "end_time": "2020-10-15T15:53:56.382254",
     "exception": false,
     "start_time": "2020-10-15T15:53:55.959031",
     "status": "completed"
    },
    "tags": []
   },
   "outputs": [
    {
     "data": {
      "text/plain": [
       "0.8262163828711612"
      ]
     },
     "execution_count": 51,
     "metadata": {},
     "output_type": "execute_result"
    }
   ],
   "source": [
    "best_score"
   ]
  },
  {
   "cell_type": "code",
   "execution_count": 52,
   "metadata": {
    "execution": {
     "iopub.execute_input": "2020-10-15T15:53:57.238510Z",
     "iopub.status.busy": "2020-10-15T15:53:57.237614Z",
     "iopub.status.idle": "2020-10-15T15:53:57.242581Z",
     "shell.execute_reply": "2020-10-15T15:53:57.241963Z"
    },
    "papermill": {
     "duration": 0.420183,
     "end_time": "2020-10-15T15:53:57.242702",
     "exception": false,
     "start_time": "2020-10-15T15:53:56.822519",
     "status": "completed"
    },
    "tags": []
   },
   "outputs": [
    {
     "data": {
      "text/plain": [
       "{'colsample_bytree': 0.8,\n",
       " 'gamma': 0.1,\n",
       " 'learning_rate': 0.03,\n",
       " 'max_depth': 6,\n",
       " 'min_child_weight': 1,\n",
       " 'n_estimators': 150}"
      ]
     },
     "execution_count": 52,
     "metadata": {},
     "output_type": "execute_result"
    }
   ],
   "source": [
    "best_grid"
   ]
  },
  {
   "cell_type": "code",
   "execution_count": 53,
   "metadata": {
    "execution": {
     "iopub.execute_input": "2020-10-15T15:53:58.068037Z",
     "iopub.status.busy": "2020-10-15T15:53:58.066950Z",
     "iopub.status.idle": "2020-10-15T15:53:58.070051Z",
     "shell.execute_reply": "2020-10-15T15:53:58.069320Z"
    },
    "papermill": {
     "duration": 0.416757,
     "end_time": "2020-10-15T15:53:58.070175",
     "exception": false,
     "start_time": "2020-10-15T15:53:57.653418",
     "status": "completed"
    },
    "tags": []
   },
   "outputs": [],
   "source": [
    "# best_grid2={'colsample_bytree': 0.8,\n",
    "# 'gamma': 0.0,\n",
    "#  'learning_rate': 0.03,\n",
    "#  'max_depth': 6,\n",
    "#  'min_child_weight': 1,\n",
    "#  'n_estimators': 350}"
   ]
  },
  {
   "cell_type": "code",
   "execution_count": 54,
   "metadata": {
    "execution": {
     "iopub.execute_input": "2020-10-15T15:53:58.892772Z",
     "iopub.status.busy": "2020-10-15T15:53:58.892036Z",
     "iopub.status.idle": "2020-10-15T15:53:58.896031Z",
     "shell.execute_reply": "2020-10-15T15:53:58.895208Z"
    },
    "papermill": {
     "duration": 0.412267,
     "end_time": "2020-10-15T15:53:58.896178",
     "exception": false,
     "start_time": "2020-10-15T15:53:58.483911",
     "status": "completed"
    },
    "tags": []
   },
   "outputs": [],
   "source": [
    "#best_score2=0.8262192223595399"
   ]
  },
  {
   "cell_type": "code",
   "execution_count": 55,
   "metadata": {
    "execution": {
     "iopub.execute_input": "2020-10-15T15:53:59.718407Z",
     "iopub.status.busy": "2020-10-15T15:53:59.717600Z",
     "iopub.status.idle": "2020-10-15T15:53:59.721217Z",
     "shell.execute_reply": "2020-10-15T15:53:59.720619Z"
    },
    "papermill": {
     "duration": 0.414035,
     "end_time": "2020-10-15T15:53:59.721362",
     "exception": false,
     "start_time": "2020-10-15T15:53:59.307327",
     "status": "completed"
    },
    "tags": []
   },
   "outputs": [],
   "source": [
    "#subs.to_csv('submission.csv', index=False)"
   ]
  },
  {
   "cell_type": "markdown",
   "metadata": {
    "papermill": {
     "duration": 0.408951,
     "end_time": "2020-10-15T15:54:00.538312",
     "exception": false,
     "start_time": "2020-10-15T15:54:00.129361",
     "status": "completed"
    },
    "tags": []
   },
   "source": [
    "We arrive at 0.8265 accuracy it is not the best I might come back at this problem later. But it should be a fairly good notebook to show we tackle imbalanced class classification problem"
   ]
  }
 ],
 "metadata": {
  "kernelspec": {
   "display_name": "Python 3",
   "language": "python",
   "name": "python3"
  },
  "language_info": {
   "codemirror_mode": {
    "name": "ipython",
    "version": 3
   },
   "file_extension": ".py",
   "mimetype": "text/x-python",
   "name": "python",
   "nbconvert_exporter": "python",
   "pygments_lexer": "ipython3",
   "version": "3.7.6"
  },
  "papermill": {
   "duration": 299.097262,
   "end_time": "2020-10-15T15:54:01.055834",
   "environment_variables": {},
   "exception": null,
   "input_path": "__notebook__.ipynb",
   "output_path": "__notebook__.ipynb",
   "parameters": {},
   "start_time": "2020-10-15T15:49:01.958572",
   "version": "2.1.0"
  }
 },
 "nbformat": 4,
 "nbformat_minor": 4
}
